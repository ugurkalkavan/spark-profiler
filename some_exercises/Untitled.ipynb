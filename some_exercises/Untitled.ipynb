{
 "cells": [
  {
   "cell_type": "code",
   "execution_count": 20,
   "id": "590f3b73-9211-40dd-89c9-4149c0ae86f3",
   "metadata": {
    "execution": {
     "iopub.execute_input": "2024-05-28T23:33:34.968894Z",
     "iopub.status.busy": "2024-05-28T23:33:34.968450Z",
     "iopub.status.idle": "2024-05-28T23:33:38.445454Z",
     "shell.execute_reply": "2024-05-28T23:33:38.444864Z",
     "shell.execute_reply.started": "2024-05-28T23:33:34.968870Z"
    },
    "tags": []
   },
   "outputs": [
    {
     "name": "stdout",
     "output_type": "stream",
     "text": [
      "Collecting fastparquet\n",
      "  Downloading fastparquet-2024.5.0-cp311-cp311-macosx_11_0_arm64.whl.metadata (4.1 kB)\n",
      "Requirement already satisfied: pandas>=1.5.0 in /opt/anaconda3/lib/python3.11/site-packages (from fastparquet) (2.1.4)\n",
      "Requirement already satisfied: numpy in /opt/anaconda3/lib/python3.11/site-packages (from fastparquet) (1.26.4)\n",
      "Collecting cramjam>=2.3 (from fastparquet)\n",
      "  Downloading cramjam-2.8.3-cp311-cp311-macosx_10_12_x86_64.macosx_11_0_arm64.macosx_10_12_universal2.whl.metadata (4.2 kB)\n",
      "Requirement already satisfied: fsspec in /opt/anaconda3/lib/python3.11/site-packages (from fastparquet) (2023.10.0)\n",
      "Requirement already satisfied: packaging in /opt/anaconda3/lib/python3.11/site-packages (from fastparquet) (23.1)\n",
      "Requirement already satisfied: python-dateutil>=2.8.2 in /opt/anaconda3/lib/python3.11/site-packages (from pandas>=1.5.0->fastparquet) (2.8.2)\n",
      "Requirement already satisfied: pytz>=2020.1 in /opt/anaconda3/lib/python3.11/site-packages (from pandas>=1.5.0->fastparquet) (2023.3.post1)\n",
      "Requirement already satisfied: tzdata>=2022.1 in /opt/anaconda3/lib/python3.11/site-packages (from pandas>=1.5.0->fastparquet) (2023.3)\n",
      "Requirement already satisfied: six>=1.5 in /opt/anaconda3/lib/python3.11/site-packages (from python-dateutil>=2.8.2->pandas>=1.5.0->fastparquet) (1.16.0)\n",
      "Downloading fastparquet-2024.5.0-cp311-cp311-macosx_11_0_arm64.whl (683 kB)\n",
      "\u001b[2K   \u001b[90m━━━━━━━━━━━━━━━━━━━━━━━━━━━━━━━━━━━━━━━━\u001b[0m \u001b[32m683.5/683.5 kB\u001b[0m \u001b[31m3.4 MB/s\u001b[0m eta \u001b[36m0:00:00\u001b[0ma \u001b[36m0:00:01\u001b[0m\n",
      "\u001b[?25hDownloading cramjam-2.8.3-cp311-cp311-macosx_10_12_x86_64.macosx_11_0_arm64.macosx_10_12_universal2.whl (3.6 MB)\n",
      "\u001b[2K   \u001b[90m━━━━━━━━━━━━━━━━━━━━━━━━━━━━━━━━━━━━━━━━\u001b[0m \u001b[32m3.6/3.6 MB\u001b[0m \u001b[31m8.0 MB/s\u001b[0m eta \u001b[36m0:00:00\u001b[0m00:01\u001b[0m00:01\u001b[0m\n",
      "\u001b[?25hInstalling collected packages: cramjam, fastparquet\n",
      "Successfully installed cramjam-2.8.3 fastparquet-2024.5.0\n"
     ]
    }
   ],
   "source": [
    "!pip install fastparquet"
   ]
  },
  {
   "cell_type": "code",
   "execution_count": 5,
   "id": "3c283999-d1c9-43ce-aff7-5688760f108d",
   "metadata": {
    "execution": {
     "iopub.execute_input": "2024-05-28T23:19:47.010841Z",
     "iopub.status.busy": "2024-05-28T23:19:47.010335Z",
     "iopub.status.idle": "2024-05-28T23:19:48.609672Z",
     "shell.execute_reply": "2024-05-28T23:19:48.608720Z",
     "shell.execute_reply.started": "2024-05-28T23:19:47.010816Z"
    },
    "tags": []
   },
   "outputs": [],
   "source": [
    "import parquet"
   ]
  },
  {
   "cell_type": "code",
   "execution_count": 12,
   "id": "41d126bc-edfb-4b71-b7b0-376ac1a8c8c4",
   "metadata": {
    "execution": {
     "iopub.execute_input": "2024-05-28T23:22:13.243749Z",
     "iopub.status.busy": "2024-05-28T23:22:13.243076Z",
     "iopub.status.idle": "2024-05-28T23:22:13.267126Z",
     "shell.execute_reply": "2024-05-28T23:22:13.266468Z",
     "shell.execute_reply.started": "2024-05-28T23:22:13.243719Z"
    },
    "tags": []
   },
   "outputs": [
    {
     "ename": "NameError",
     "evalue": "name 'spark' is not defined",
     "output_type": "error",
     "traceback": [
      "\u001b[0;31m---------------------------------------------------------------------------\u001b[0m",
      "\u001b[0;31mNameError\u001b[0m                                 Traceback (most recent call last)",
      "Cell \u001b[0;32mIn[12], line 1\u001b[0m\n\u001b[0;32m----> 1\u001b[0m weather \u001b[38;5;241m=\u001b[39m spark\u001b[38;5;241m.\u001b[39mread\u001b[38;5;241m.\u001b[39mparquet(\u001b[38;5;124m\"\u001b[39m\u001b[38;5;124m/Users/ugurkalkavan/Downloads/m06sparkbasics/weather\u001b[39m\u001b[38;5;124m\"\u001b[39m)\n",
      "\u001b[0;31mNameError\u001b[0m: name 'spark' is not defined"
     ]
    }
   ],
   "source": [
    "weather = spark.read.parquet(\"/Users/ugurkalkavan/Downloads/m06sparkbasics/weather\")"
   ]
  },
  {
   "cell_type": "code",
   "execution_count": null,
   "id": "fcc3db50-945b-4f50-8b24-3386818d5f74",
   "metadata": {
    "tags": []
   },
   "outputs": [],
   "source": [
    "import parquet\n",
    "import json\n",
    "\n",
    "## assuming parquet file with two rows and three columns:\n",
    "## foo bar baz\n",
    "## 1   2   3\n",
    "## 4   5   6\n",
    "\n",
    "with open(\"/Users/ugurkalkavan/Downloads/m06sparkbasics/weather\", \"rb\") as fo:\n",
    "   # prints:\n",
    "   # {\"foo\": 1, \"bar\": 2}\n",
    "   # {\"foo\": 4, \"bar\": 5}\n",
    "   for row in parquet.DictReader(fo, columns=['foo', 'bar']):\n",
    "       print(json.dumps(row))\n",
    "\n",
    "\n",
    "with open(\"/Users/ugurkalkavan/Downloads/m06sparkbasics/weather\", \"rb\") as fo:\n",
    "   # prints:\n",
    "   # 1,2\n",
    "   # 4,5\n",
    "   for row in parquet.reader(fo, columns=['foo', 'bar']):\n",
    "       print(\",\".join([str(r) for r in row]))"
   ]
  },
  {
   "cell_type": "code",
   "execution_count": null,
   "id": "f6355e80-41ce-4b18-9dde-30d15a426177",
   "metadata": {
    "tags": []
   },
   "outputs": [],
   "source": [
    "from fastparquet import ParquetFile\n",
    "\n",
    "file = \"/Users/ugurkalkavan/Downloads/m06sparkbasics/weather/year=2017/month=09/day=01/part-00155-44bd3411-fbe4-4e16-b667-7ec0fc3ad489.c000.snappy.parquet\"\n",
    "pf = ParquetFile(file)\n",
    "\n",
    "# Row group metadata\n",
    "for rg in pf.row_groups:\n",
    "    print(\"*******************************\")\n",
    "    print(rg)\n",
    "    print(\"Row group size: \", rg.total_byte_size)\n",
    "    print(\"Number of rows: \", rg.num_rows)\n",
    "    # COLUMN CHUNK META-DATA\n",
    "    for chunk in rg.columns:\n",
    "        print(chunk.meta_data)\n",
    "        print(\"--------------------------------\")"
   ]
  },
  {
   "cell_type": "code",
   "execution_count": 72,
   "id": "a0633b11-6a1b-4a43-beb6-d3688c47d41a",
   "metadata": {
    "execution": {
     "iopub.execute_input": "2024-05-29T00:13:12.643428Z",
     "iopub.status.busy": "2024-05-29T00:13:12.642731Z",
     "iopub.status.idle": "2024-05-29T00:13:12.653261Z",
     "shell.execute_reply": "2024-05-29T00:13:12.652748Z",
     "shell.execute_reply.started": "2024-05-29T00:13:12.643382Z"
    },
    "tags": []
   },
   "outputs": [
    {
     "name": "stdout",
     "output_type": "stream",
     "text": [
      "<pyarrow._parquet.FileMetaData object at 0x15a500d60>\n",
      "  created_by: parquet-mr version 1.8.2 (build c6522788629e590a53eb79874b95f6c3ff11f16c)\n",
      "  num_columns: 5\n",
      "  num_rows: 564630\n",
      "  num_row_groups: 1\n",
      "  format_version: 1.0\n",
      "  serialized_size: 1001\n",
      "Row group 0\n",
      "Number of rows: 564630\n",
      "Total byte size: 2501737\n",
      "min: -59.7956\n",
      "max: 85.5535\n",
      "max: <pyarrow._parquet.Statistics object at 0x15a5036f0>\n",
      "  has_min_max: True\n",
      "  min: -59.7956\n",
      "  max: 85.5535\n",
      "  null_count: 0\n",
      "  distinct_count: None\n",
      "  num_values: 564630\n",
      "  physical_type: DOUBLE\n",
      "  logical_type: None\n",
      "  converted_type (legacy): NONE\n",
      "\n",
      "\n"
     ]
    }
   ],
   "source": [
    "import pyarrow.parquet as pq\n",
    "\n",
    "file = \"/Users/ugurkalkavan/Downloads/m06sparkbasics/weather/year=2017/month=09/day=01/part-00155-44bd3411-fbe4-4e16-b667-7ec0fc3ad489.c000.snappy.parquet\"\n",
    "\n",
    "# open the file\n",
    "parquet_file = pq.ParquetFile(file)\n",
    "\n",
    "# Print the metadata\n",
    "print(parquet_file.metadata)\n",
    "\n",
    "#iterate over row groups\n",
    "for i in range(parquet_file.num_row_groups):\n",
    "    rg = parquet_file.metadata.row_group(i)\n",
    "    col_stats = parquet_file.metadata.row_group(i).column(1).statistics\n",
    "    print(f\"Row group {i}\")\n",
    "    print(\"Number of rows:\", rg.num_rows)\n",
    "    print(\"Total byte size:\", rg.total_byte_size)\n",
    "    print(\"min:\", col_stats.min)\n",
    "    print(\"max:\", col_stats.max)\n",
    "    print(\"max:\", col_stats)\n",
    "    print(\"\\n\")"
   ]
  },
  {
   "cell_type": "code",
   "execution_count": null,
   "id": "0128d6ab-e6ff-4cc5-b172-281eefe1774f",
   "metadata": {},
   "outputs": [],
   "source": []
  }
 ],
 "metadata": {
  "kernelspec": {
   "display_name": "Python 3 (ipykernel)",
   "language": "python",
   "name": "python3"
  },
  "language_info": {
   "codemirror_mode": {
    "name": "ipython",
    "version": 3
   },
   "file_extension": ".py",
   "mimetype": "text/x-python",
   "name": "python",
   "nbconvert_exporter": "python",
   "pygments_lexer": "ipython3",
   "version": "3.11.7"
  }
 },
 "nbformat": 4,
 "nbformat_minor": 5
}
