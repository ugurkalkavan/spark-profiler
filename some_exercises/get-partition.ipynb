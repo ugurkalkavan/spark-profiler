{
 "cells": [
  {
   "cell_type": "code",
   "execution_count": 2,
   "id": "4a4da2e8-fb0c-41bf-819b-3da5a04ca1eb",
   "metadata": {
    "execution": {
     "iopub.execute_input": "2024-06-30T23:08:26.555727Z",
     "iopub.status.busy": "2024-06-30T23:08:26.554373Z",
     "iopub.status.idle": "2024-06-30T23:08:33.359177Z",
     "shell.execute_reply": "2024-06-30T23:08:33.358837Z",
     "shell.execute_reply.started": "2024-06-30T23:08:26.555648Z"
    }
   },
   "outputs": [
    {
     "name": "stderr",
     "output_type": "stream",
     "text": [
      "24/07/01 02:08:29 WARN Utils: Your hostname, Ugurs-MacBook-Pro.local resolves to a loopback address: 127.0.0.1; using 192.168.0.24 instead (on interface en0)\n",
      "24/07/01 02:08:29 WARN Utils: Set SPARK_LOCAL_IP if you need to bind to another address\n",
      "Setting default log level to \"WARN\".\n",
      "To adjust logging level use sc.setLogLevel(newLevel). For SparkR, use setLogLevel(newLevel).\n",
      "24/07/01 02:08:30 WARN NativeCodeLoader: Unable to load native-hadoop library for your platform... using builtin-java classes where applicable\n"
     ]
    }
   ],
   "source": [
    "from pyspark.sql import SparkSession\n",
    "from pyspark.sql.functions import *\n",
    "import random\n",
    "import string\n",
    "import pandas as pd\n",
    "\n",
    "# Creating Spark Session\n",
    "spark = SparkSession.builder.appName('data_gen').getOrCreate()\n",
    "spark.conf.set(\"spark.sql.sources.partitionOverwriteMode\",\"dynamic\")"
   ]
  },
  {
   "cell_type": "code",
   "execution_count": 3,
   "id": "277b7d6c-8302-41ec-8a4c-afabbaef5131",
   "metadata": {
    "execution": {
     "iopub.execute_input": "2024-06-30T23:08:33.366134Z",
     "iopub.status.busy": "2024-06-30T23:08:33.366062Z",
     "iopub.status.idle": "2024-06-30T23:08:42.445891Z",
     "shell.execute_reply": "2024-06-30T23:08:42.445578Z",
     "shell.execute_reply.started": "2024-06-30T23:08:33.366127Z"
    }
   },
   "outputs": [
    {
     "name": "stderr",
     "output_type": "stream",
     "text": [
      "                                                                                \r"
     ]
    }
   ],
   "source": [
    "weather = spark.read.parquet(\"/Users/ugurkalkavan/Downloads/m06sparkbasics/weather\")"
   ]
  },
  {
   "cell_type": "code",
   "execution_count": 4,
   "id": "2f3048c0-70fd-4c88-939f-a2e3c4e0aad9",
   "metadata": {
    "execution": {
     "iopub.execute_input": "2024-06-30T23:08:42.446861Z",
     "iopub.status.busy": "2024-06-30T23:08:42.446773Z",
     "iopub.status.idle": "2024-06-30T23:08:57.603011Z",
     "shell.execute_reply": "2024-06-30T23:08:57.602677Z",
     "shell.execute_reply.started": "2024-06-30T23:08:42.446853Z"
    }
   },
   "outputs": [
    {
     "name": "stderr",
     "output_type": "stream",
     "text": [
      "                                                                                \r"
     ]
    },
    {
     "name": "stdout",
     "output_type": "stream",
     "text": [
      "+---+\n",
      "|pid|\n",
      "+---+\n",
      "|  0|\n",
      "|  1|\n",
      "|  2|\n",
      "|  3|\n",
      "|  4|\n",
      "|  5|\n",
      "|  6|\n",
      "|  7|\n",
      "|  8|\n",
      "|  9|\n",
      "| 10|\n",
      "| 11|\n",
      "| 12|\n",
      "| 13|\n",
      "| 14|\n",
      "| 15|\n",
      "| 16|\n",
      "| 17|\n",
      "| 18|\n",
      "| 19|\n",
      "+---+\n",
      "only showing top 20 rows\n",
      "\n"
     ]
    }
   ],
   "source": [
    "weather.select(spark_partition_id().alias(\"pid\")).distinct().show()"
   ]
  },
  {
   "cell_type": "code",
   "execution_count": 6,
   "id": "abc38405-c225-4869-9db0-e5ebbf88e225",
   "metadata": {
    "execution": {
     "iopub.execute_input": "2024-06-30T23:08:57.630437Z",
     "iopub.status.busy": "2024-06-30T23:08:57.630360Z",
     "iopub.status.idle": "2024-06-30T23:08:58.205914Z",
     "shell.execute_reply": "2024-06-30T23:08:58.205577Z",
     "shell.execute_reply.started": "2024-06-30T23:08:57.630431Z"
    }
   },
   "outputs": [
    {
     "data": {
      "text/plain": [
       "8796"
      ]
     },
     "execution_count": 6,
     "metadata": {},
     "output_type": "execute_result"
    }
   ],
   "source": [
    "len(weather.inputFiles())"
   ]
  },
  {
   "cell_type": "code",
   "execution_count": 15,
   "id": "6c8b1d36-70c6-43be-86cd-5972af375cfe",
   "metadata": {
    "execution": {
     "iopub.execute_input": "2024-06-30T23:09:04.634812Z",
     "iopub.status.busy": "2024-06-30T23:09:04.634121Z",
     "iopub.status.idle": "2024-06-30T23:09:05.135276Z",
     "shell.execute_reply": "2024-06-30T23:09:05.135008Z",
     "shell.execute_reply.started": "2024-06-30T23:09:04.634783Z"
    }
   },
   "outputs": [
    {
     "data": {
      "text/plain": [
       "['file:///Users/ugurkalkavan/Downloads/m06sparkbasics/weather/year=2023/month=12/day=11/part-00214-44bd3411-fbe4-4e16-b667-7ec0fc3ad489.c000.snappy.parquet',\n",
       " 'file:///Users/ugurkalkavan/Downloads/m06sparkbasics/weather/year=2018/month=07/day=21/part-00152-44bd3411-fbe4-4e16-b667-7ec0fc3ad489.c000.snappy.parquet',\n",
       " 'file:///Users/ugurkalkavan/Downloads/m06sparkbasics/weather/year=2017/month=12/day=11/part-00214-44bd3411-fbe4-4e16-b667-7ec0fc3ad489.c000.snappy.parquet',\n",
       " 'file:///Users/ugurkalkavan/Downloads/m06sparkbasics/weather/year=2020/month=02/day=19/part-00113-44bd3411-fbe4-4e16-b667-7ec0fc3ad489.c000.snappy.parquet']"
      ]
     },
     "execution_count": 15,
     "metadata": {},
     "output_type": "execute_result"
    }
   ],
   "source": [
    "weather.inputFiles()[0:4]"
   ]
  },
  {
   "cell_type": "code",
   "execution_count": 115,
   "id": "a2026337-3f42-46bb-bbcb-1406f00978d6",
   "metadata": {
    "execution": {
     "iopub.execute_input": "2024-06-30T23:28:49.734158Z",
     "iopub.status.busy": "2024-06-30T23:28:49.733480Z",
     "iopub.status.idle": "2024-06-30T23:28:51.125671Z",
     "shell.execute_reply": "2024-06-30T23:28:51.125360Z",
     "shell.execute_reply.started": "2024-06-30T23:28:49.734127Z"
    }
   },
   "outputs": [],
   "source": [
    "from pyspark.sql.types import StructType, StructField, StringType\n",
    "\n",
    "\n",
    "\n",
    "weather_df = spark.read.parquet(\"/Users/ugurkalkavan/Downloads/m06sparkbasics/weather\").select(\"_metadata\")"
   ]
  },
  {
   "cell_type": "code",
   "execution_count": 85,
   "id": "53d3cbd5-3f85-42a9-b82f-c0f1c5c85756",
   "metadata": {
    "execution": {
     "iopub.execute_input": "2024-06-30T23:21:16.172610Z",
     "iopub.status.busy": "2024-06-30T23:21:16.172141Z",
     "iopub.status.idle": "2024-06-30T23:21:16.253159Z",
     "shell.execute_reply": "2024-06-30T23:21:16.252803Z",
     "shell.execute_reply.started": "2024-06-30T23:21:16.172579Z"
    }
   },
   "outputs": [],
   "source": [
    "weather_df = weather_df.select(\"_metadata.file_path\", \"_metadata.file_name\", \"_metadata.file_size\", \"_metadata.file_block_start\", \"_metadata.file_block_length\", \"_metadata.file_modification_time\")"
   ]
  },
  {
   "cell_type": "code",
   "execution_count": 93,
   "id": "e367726e-965e-49b1-ac32-a5c8d10b9e3f",
   "metadata": {
    "execution": {
     "iopub.execute_input": "2024-06-30T23:21:48.081459Z",
     "iopub.status.busy": "2024-06-30T23:21:48.080916Z",
     "iopub.status.idle": "2024-06-30T23:21:48.177874Z",
     "shell.execute_reply": "2024-06-30T23:21:48.177554Z",
     "shell.execute_reply.started": "2024-06-30T23:21:48.081428Z"
    }
   },
   "outputs": [],
   "source": [
    "weather_df = weather_df.select(\"_metadata.file_size\", \"_metadata.file_block_start\", \"_metadata.file_block_length\", \"_metadata.file_modification_time\")"
   ]
  },
  {
   "cell_type": "code",
   "execution_count": 117,
   "id": "3e0f5312-d230-4a28-9ea2-66b0e2e35bed",
   "metadata": {
    "execution": {
     "iopub.execute_input": "2024-06-30T23:29:01.068758Z",
     "iopub.status.busy": "2024-06-30T23:29:01.068306Z",
     "iopub.status.idle": "2024-06-30T23:29:01.150514Z",
     "shell.execute_reply": "2024-06-30T23:29:01.150208Z",
     "shell.execute_reply.started": "2024-06-30T23:29:01.068732Z"
    }
   },
   "outputs": [],
   "source": [
    "weather_df = weather_df.select(\"_metadata.file_path\", \"_metadata.file_name\", \"_metadata.file_size\").dropDuplicates([\"file_path\",\"file_name\"])\n"
   ]
  },
  {
   "cell_type": "code",
   "execution_count": 119,
   "id": "98b32b68-41e0-4451-98bf-bf4583cabe56",
   "metadata": {
    "execution": {
     "iopub.execute_input": "2024-06-30T23:29:02.519612Z",
     "iopub.status.busy": "2024-06-30T23:29:02.519164Z",
     "iopub.status.idle": "2024-06-30T23:31:59.403645Z",
     "shell.execute_reply": "2024-06-30T23:31:59.403104Z",
     "shell.execute_reply.started": "2024-06-30T23:29:02.519586Z"
    }
   },
   "outputs": [
    {
     "name": "stderr",
     "output_type": "stream",
     "text": [
      "                                                                                \r"
     ]
    },
    {
     "data": {
      "text/plain": [
       "8796"
      ]
     },
     "execution_count": 119,
     "metadata": {},
     "output_type": "execute_result"
    }
   ],
   "source": [
    "weather_df.count()"
   ]
  },
  {
   "cell_type": "code",
   "execution_count": 120,
   "id": "ef6deda8-fedb-4206-860a-e2cec8337e7e",
   "metadata": {
    "execution": {
     "iopub.execute_input": "2024-06-30T23:31:59.423001Z",
     "iopub.status.busy": "2024-06-30T23:31:59.422896Z",
     "iopub.status.idle": "2024-06-30T23:34:56.320451Z",
     "shell.execute_reply": "2024-06-30T23:34:56.320091Z",
     "shell.execute_reply.started": "2024-06-30T23:31:59.422991Z"
    }
   },
   "outputs": [
    {
     "name": "stderr",
     "output_type": "stream",
     "text": [
      "[Stage 46:=====================================================>(493 + 1) / 494]\r"
     ]
    },
    {
     "name": "stdout",
     "output_type": "stream",
     "text": [
      "+-------------------------------------------------------------------------------------------------------------------------------------------------------+-------------------------------------------------------------------+---------+\n",
      "|file_path                                                                                                                                              |file_name                                                          |file_size|\n",
      "+-------------------------------------------------------------------------------------------------------------------------------------------------------+-------------------------------------------------------------------+---------+\n",
      "|file:/Users/ugurkalkavan/Downloads/m06sparkbasics/weather/year=2016/month=05/day=29/part-00088-44bd3411-fbe4-4e16-b667-7ec0fc3ad489.c000.snappy.parquet|part-00088-44bd3411-fbe4-4e16-b667-7ec0fc3ad489.c000.snappy.parquet|6098626  |\n",
      "|file:/Users/ugurkalkavan/Downloads/m06sparkbasics/weather/year=2016/month=08/day=29/part-00088-44bd3411-fbe4-4e16-b667-7ec0fc3ad489.c000.snappy.parquet|part-00088-44bd3411-fbe4-4e16-b667-7ec0fc3ad489.c000.snappy.parquet|6098626  |\n",
      "|file:/Users/ugurkalkavan/Downloads/m06sparkbasics/weather/year=2023/month=12/day=29/part-00088-44bd3411-fbe4-4e16-b667-7ec0fc3ad489.c000.snappy.parquet|part-00088-44bd3411-fbe4-4e16-b667-7ec0fc3ad489.c000.snappy.parquet|6098626  |\n",
      "|file:/Users/ugurkalkavan/Downloads/m06sparkbasics/weather/year=2023/month=08/day=29/part-00088-44bd3411-fbe4-4e16-b667-7ec0fc3ad489.c000.snappy.parquet|part-00088-44bd3411-fbe4-4e16-b667-7ec0fc3ad489.c000.snappy.parquet|6098626  |\n",
      "|file:/Users/ugurkalkavan/Downloads/m06sparkbasics/weather/year=2016/month=11/day=29/part-00088-44bd3411-fbe4-4e16-b667-7ec0fc3ad489.c000.snappy.parquet|part-00088-44bd3411-fbe4-4e16-b667-7ec0fc3ad489.c000.snappy.parquet|6098626  |\n",
      "|file:/Users/ugurkalkavan/Downloads/m06sparkbasics/weather/year=2020/month=01/day=29/part-00088-44bd3411-fbe4-4e16-b667-7ec0fc3ad489.c000.snappy.parquet|part-00088-44bd3411-fbe4-4e16-b667-7ec0fc3ad489.c000.snappy.parquet|6098626  |\n",
      "|file:/Users/ugurkalkavan/Downloads/m06sparkbasics/weather/year=2018/month=05/day=29/part-00088-44bd3411-fbe4-4e16-b667-7ec0fc3ad489.c000.snappy.parquet|part-00088-44bd3411-fbe4-4e16-b667-7ec0fc3ad489.c000.snappy.parquet|6098626  |\n",
      "|file:/Users/ugurkalkavan/Downloads/m06sparkbasics/weather/year=2022/month=11/day=29/part-00088-44bd3411-fbe4-4e16-b667-7ec0fc3ad489.c000.snappy.parquet|part-00088-44bd3411-fbe4-4e16-b667-7ec0fc3ad489.c000.snappy.parquet|6098626  |\n",
      "|file:/Users/ugurkalkavan/Downloads/m06sparkbasics/weather/year=2022/month=12/day=29/part-00088-44bd3411-fbe4-4e16-b667-7ec0fc3ad489.c000.snappy.parquet|part-00088-44bd3411-fbe4-4e16-b667-7ec0fc3ad489.c000.snappy.parquet|6098626  |\n",
      "|file:/Users/ugurkalkavan/Downloads/m06sparkbasics/weather/year=2019/month=05/day=29/part-00088-44bd3411-fbe4-4e16-b667-7ec0fc3ad489.c000.snappy.parquet|part-00088-44bd3411-fbe4-4e16-b667-7ec0fc3ad489.c000.snappy.parquet|6098626  |\n",
      "|file:/Users/ugurkalkavan/Downloads/m06sparkbasics/weather/year=2017/month=05/day=29/part-00088-44bd3411-fbe4-4e16-b667-7ec0fc3ad489.c000.snappy.parquet|part-00088-44bd3411-fbe4-4e16-b667-7ec0fc3ad489.c000.snappy.parquet|6098626  |\n",
      "|file:/Users/ugurkalkavan/Downloads/m06sparkbasics/weather/year=2017/month=08/day=29/part-00088-44bd3411-fbe4-4e16-b667-7ec0fc3ad489.c000.snappy.parquet|part-00088-44bd3411-fbe4-4e16-b667-7ec0fc3ad489.c000.snappy.parquet|6098626  |\n",
      "|file:/Users/ugurkalkavan/Downloads/m06sparkbasics/weather/year=2016/month=04/day=29/part-00088-44bd3411-fbe4-4e16-b667-7ec0fc3ad489.c000.snappy.parquet|part-00088-44bd3411-fbe4-4e16-b667-7ec0fc3ad489.c000.snappy.parquet|6098626  |\n",
      "|file:/Users/ugurkalkavan/Downloads/m06sparkbasics/weather/year=2020/month=08/day=29/part-00088-44bd3411-fbe4-4e16-b667-7ec0fc3ad489.c000.snappy.parquet|part-00088-44bd3411-fbe4-4e16-b667-7ec0fc3ad489.c000.snappy.parquet|6098626  |\n",
      "|file:/Users/ugurkalkavan/Downloads/m06sparkbasics/weather/year=2021/month=01/day=29/part-00088-44bd3411-fbe4-4e16-b667-7ec0fc3ad489.c000.snappy.parquet|part-00088-44bd3411-fbe4-4e16-b667-7ec0fc3ad489.c000.snappy.parquet|6098626  |\n",
      "|file:/Users/ugurkalkavan/Downloads/m06sparkbasics/weather/year=2019/month=08/day=29/part-00088-44bd3411-fbe4-4e16-b667-7ec0fc3ad489.c000.snappy.parquet|part-00088-44bd3411-fbe4-4e16-b667-7ec0fc3ad489.c000.snappy.parquet|6098626  |\n",
      "|file:/Users/ugurkalkavan/Downloads/m06sparkbasics/weather/year=2021/month=12/day=29/part-00088-44bd3411-fbe4-4e16-b667-7ec0fc3ad489.c000.snappy.parquet|part-00088-44bd3411-fbe4-4e16-b667-7ec0fc3ad489.c000.snappy.parquet|6098626  |\n",
      "|file:/Users/ugurkalkavan/Downloads/m06sparkbasics/weather/year=2019/month=01/day=29/part-00088-44bd3411-fbe4-4e16-b667-7ec0fc3ad489.c000.snappy.parquet|part-00088-44bd3411-fbe4-4e16-b667-7ec0fc3ad489.c000.snappy.parquet|6098626  |\n",
      "|file:/Users/ugurkalkavan/Downloads/m06sparkbasics/weather/year=2022/month=05/day=29/part-00088-44bd3411-fbe4-4e16-b667-7ec0fc3ad489.c000.snappy.parquet|part-00088-44bd3411-fbe4-4e16-b667-7ec0fc3ad489.c000.snappy.parquet|6098626  |\n",
      "|file:/Users/ugurkalkavan/Downloads/m06sparkbasics/weather/year=2021/month=04/day=29/part-00088-44bd3411-fbe4-4e16-b667-7ec0fc3ad489.c000.snappy.parquet|part-00088-44bd3411-fbe4-4e16-b667-7ec0fc3ad489.c000.snappy.parquet|6098626  |\n",
      "|file:/Users/ugurkalkavan/Downloads/m06sparkbasics/weather/year=2021/month=08/day=29/part-00088-44bd3411-fbe4-4e16-b667-7ec0fc3ad489.c000.snappy.parquet|part-00088-44bd3411-fbe4-4e16-b667-7ec0fc3ad489.c000.snappy.parquet|6098626  |\n",
      "|file:/Users/ugurkalkavan/Downloads/m06sparkbasics/weather/year=2023/month=01/day=29/part-00088-44bd3411-fbe4-4e16-b667-7ec0fc3ad489.c000.snappy.parquet|part-00088-44bd3411-fbe4-4e16-b667-7ec0fc3ad489.c000.snappy.parquet|6098626  |\n",
      "|file:/Users/ugurkalkavan/Downloads/m06sparkbasics/weather/year=2019/month=11/day=29/part-00088-44bd3411-fbe4-4e16-b667-7ec0fc3ad489.c000.snappy.parquet|part-00088-44bd3411-fbe4-4e16-b667-7ec0fc3ad489.c000.snappy.parquet|6098626  |\n",
      "|file:/Users/ugurkalkavan/Downloads/m06sparkbasics/weather/year=2017/month=11/day=29/part-00088-44bd3411-fbe4-4e16-b667-7ec0fc3ad489.c000.snappy.parquet|part-00088-44bd3411-fbe4-4e16-b667-7ec0fc3ad489.c000.snappy.parquet|6098626  |\n",
      "|file:/Users/ugurkalkavan/Downloads/m06sparkbasics/weather/year=2020/month=11/day=29/part-00088-44bd3411-fbe4-4e16-b667-7ec0fc3ad489.c000.snappy.parquet|part-00088-44bd3411-fbe4-4e16-b667-7ec0fc3ad489.c000.snappy.parquet|6098626  |\n",
      "|file:/Users/ugurkalkavan/Downloads/m06sparkbasics/weather/year=2019/month=04/day=29/part-00088-44bd3411-fbe4-4e16-b667-7ec0fc3ad489.c000.snappy.parquet|part-00088-44bd3411-fbe4-4e16-b667-7ec0fc3ad489.c000.snappy.parquet|6098626  |\n",
      "|file:/Users/ugurkalkavan/Downloads/m06sparkbasics/weather/year=2021/month=12/day=27/part-00012-44bd3411-fbe4-4e16-b667-7ec0fc3ad489.c000.snappy.parquet|part-00012-44bd3411-fbe4-4e16-b667-7ec0fc3ad489.c000.snappy.parquet|6097808  |\n",
      "|file:/Users/ugurkalkavan/Downloads/m06sparkbasics/weather/year=2021/month=11/day=29/part-00088-44bd3411-fbe4-4e16-b667-7ec0fc3ad489.c000.snappy.parquet|part-00088-44bd3411-fbe4-4e16-b667-7ec0fc3ad489.c000.snappy.parquet|6098626  |\n",
      "|file:/Users/ugurkalkavan/Downloads/m06sparkbasics/weather/year=2023/month=12/day=27/part-00012-44bd3411-fbe4-4e16-b667-7ec0fc3ad489.c000.snappy.parquet|part-00012-44bd3411-fbe4-4e16-b667-7ec0fc3ad489.c000.snappy.parquet|6097808  |\n",
      "|file:/Users/ugurkalkavan/Downloads/m06sparkbasics/weather/year=2017/month=12/day=27/part-00012-44bd3411-fbe4-4e16-b667-7ec0fc3ad489.c000.snappy.parquet|part-00012-44bd3411-fbe4-4e16-b667-7ec0fc3ad489.c000.snappy.parquet|6097808  |\n",
      "|file:/Users/ugurkalkavan/Downloads/m06sparkbasics/weather/year=2021/month=04/day=27/part-00012-44bd3411-fbe4-4e16-b667-7ec0fc3ad489.c000.snappy.parquet|part-00012-44bd3411-fbe4-4e16-b667-7ec0fc3ad489.c000.snappy.parquet|6097808  |\n",
      "|file:/Users/ugurkalkavan/Downloads/m06sparkbasics/weather/year=2017/month=11/day=27/part-00012-44bd3411-fbe4-4e16-b667-7ec0fc3ad489.c000.snappy.parquet|part-00012-44bd3411-fbe4-4e16-b667-7ec0fc3ad489.c000.snappy.parquet|6097808  |\n",
      "|file:/Users/ugurkalkavan/Downloads/m06sparkbasics/weather/year=2020/month=08/day=27/part-00012-44bd3411-fbe4-4e16-b667-7ec0fc3ad489.c000.snappy.parquet|part-00012-44bd3411-fbe4-4e16-b667-7ec0fc3ad489.c000.snappy.parquet|6097808  |\n",
      "|file:/Users/ugurkalkavan/Downloads/m06sparkbasics/weather/year=2021/month=01/day=27/part-00012-44bd3411-fbe4-4e16-b667-7ec0fc3ad489.c000.snappy.parquet|part-00012-44bd3411-fbe4-4e16-b667-7ec0fc3ad489.c000.snappy.parquet|6097808  |\n",
      "|file:/Users/ugurkalkavan/Downloads/m06sparkbasics/weather/year=2022/month=05/day=27/part-00012-44bd3411-fbe4-4e16-b667-7ec0fc3ad489.c000.snappy.parquet|part-00012-44bd3411-fbe4-4e16-b667-7ec0fc3ad489.c000.snappy.parquet|6097808  |\n",
      "|file:/Users/ugurkalkavan/Downloads/m06sparkbasics/weather/year=2018/month=08/day=27/part-00012-44bd3411-fbe4-4e16-b667-7ec0fc3ad489.c000.snappy.parquet|part-00012-44bd3411-fbe4-4e16-b667-7ec0fc3ad489.c000.snappy.parquet|6097808  |\n",
      "|file:/Users/ugurkalkavan/Downloads/m06sparkbasics/weather/year=2022/month=11/day=27/part-00012-44bd3411-fbe4-4e16-b667-7ec0fc3ad489.c000.snappy.parquet|part-00012-44bd3411-fbe4-4e16-b667-7ec0fc3ad489.c000.snappy.parquet|6097808  |\n",
      "|file:/Users/ugurkalkavan/Downloads/m06sparkbasics/weather/year=2020/month=04/day=27/part-00012-44bd3411-fbe4-4e16-b667-7ec0fc3ad489.c000.snappy.parquet|part-00012-44bd3411-fbe4-4e16-b667-7ec0fc3ad489.c000.snappy.parquet|6097808  |\n",
      "|file:/Users/ugurkalkavan/Downloads/m06sparkbasics/weather/year=2017/month=04/day=27/part-00012-44bd3411-fbe4-4e16-b667-7ec0fc3ad489.c000.snappy.parquet|part-00012-44bd3411-fbe4-4e16-b667-7ec0fc3ad489.c000.snappy.parquet|6097808  |\n",
      "|file:/Users/ugurkalkavan/Downloads/m06sparkbasics/weather/year=2020/month=01/day=27/part-00012-44bd3411-fbe4-4e16-b667-7ec0fc3ad489.c000.snappy.parquet|part-00012-44bd3411-fbe4-4e16-b667-7ec0fc3ad489.c000.snappy.parquet|6097808  |\n",
      "|file:/Users/ugurkalkavan/Downloads/m06sparkbasics/weather/year=2019/month=12/day=27/part-00012-44bd3411-fbe4-4e16-b667-7ec0fc3ad489.c000.snappy.parquet|part-00012-44bd3411-fbe4-4e16-b667-7ec0fc3ad489.c000.snappy.parquet|6097808  |\n",
      "|file:/Users/ugurkalkavan/Downloads/m06sparkbasics/weather/year=2021/month=11/day=27/part-00012-44bd3411-fbe4-4e16-b667-7ec0fc3ad489.c000.snappy.parquet|part-00012-44bd3411-fbe4-4e16-b667-7ec0fc3ad489.c000.snappy.parquet|6097808  |\n",
      "|file:/Users/ugurkalkavan/Downloads/m06sparkbasics/weather/year=2019/month=11/day=27/part-00012-44bd3411-fbe4-4e16-b667-7ec0fc3ad489.c000.snappy.parquet|part-00012-44bd3411-fbe4-4e16-b667-7ec0fc3ad489.c000.snappy.parquet|6097808  |\n",
      "|file:/Users/ugurkalkavan/Downloads/m06sparkbasics/weather/year=2022/month=01/day=27/part-00012-44bd3411-fbe4-4e16-b667-7ec0fc3ad489.c000.snappy.parquet|part-00012-44bd3411-fbe4-4e16-b667-7ec0fc3ad489.c000.snappy.parquet|6097808  |\n",
      "|file:/Users/ugurkalkavan/Downloads/m06sparkbasics/weather/year=2017/month=01/day=27/part-00012-44bd3411-fbe4-4e16-b667-7ec0fc3ad489.c000.snappy.parquet|part-00012-44bd3411-fbe4-4e16-b667-7ec0fc3ad489.c000.snappy.parquet|6097808  |\n",
      "|file:/Users/ugurkalkavan/Downloads/m06sparkbasics/weather/year=2018/month=01/day=27/part-00012-44bd3411-fbe4-4e16-b667-7ec0fc3ad489.c000.snappy.parquet|part-00012-44bd3411-fbe4-4e16-b667-7ec0fc3ad489.c000.snappy.parquet|6097808  |\n",
      "|file:/Users/ugurkalkavan/Downloads/m06sparkbasics/weather/year=2023/month=04/day=27/part-00012-44bd3411-fbe4-4e16-b667-7ec0fc3ad489.c000.snappy.parquet|part-00012-44bd3411-fbe4-4e16-b667-7ec0fc3ad489.c000.snappy.parquet|6097808  |\n",
      "|file:/Users/ugurkalkavan/Downloads/m06sparkbasics/weather/year=2018/month=04/day=27/part-00012-44bd3411-fbe4-4e16-b667-7ec0fc3ad489.c000.snappy.parquet|part-00012-44bd3411-fbe4-4e16-b667-7ec0fc3ad489.c000.snappy.parquet|6097808  |\n",
      "|file:/Users/ugurkalkavan/Downloads/m06sparkbasics/weather/year=2016/month=11/day=27/part-00012-44bd3411-fbe4-4e16-b667-7ec0fc3ad489.c000.snappy.parquet|part-00012-44bd3411-fbe4-4e16-b667-7ec0fc3ad489.c000.snappy.parquet|6097808  |\n",
      "|file:/Users/ugurkalkavan/Downloads/m06sparkbasics/weather/year=2023/month=11/day=27/part-00012-44bd3411-fbe4-4e16-b667-7ec0fc3ad489.c000.snappy.parquet|part-00012-44bd3411-fbe4-4e16-b667-7ec0fc3ad489.c000.snappy.parquet|6097808  |\n",
      "|file:/Users/ugurkalkavan/Downloads/m06sparkbasics/weather/year=2016/month=08/day=27/part-00012-44bd3411-fbe4-4e16-b667-7ec0fc3ad489.c000.snappy.parquet|part-00012-44bd3411-fbe4-4e16-b667-7ec0fc3ad489.c000.snappy.parquet|6097808  |\n",
      "|file:/Users/ugurkalkavan/Downloads/m06sparkbasics/weather/year=2019/month=01/day=28/part-00080-44bd3411-fbe4-4e16-b667-7ec0fc3ad489.c000.snappy.parquet|part-00080-44bd3411-fbe4-4e16-b667-7ec0fc3ad489.c000.snappy.parquet|6097291  |\n",
      "|file:/Users/ugurkalkavan/Downloads/m06sparkbasics/weather/year=2016/month=08/day=28/part-00080-44bd3411-fbe4-4e16-b667-7ec0fc3ad489.c000.snappy.parquet|part-00080-44bd3411-fbe4-4e16-b667-7ec0fc3ad489.c000.snappy.parquet|6097291  |\n",
      "|file:/Users/ugurkalkavan/Downloads/m06sparkbasics/weather/year=2016/month=12/day=28/part-00080-44bd3411-fbe4-4e16-b667-7ec0fc3ad489.c000.snappy.parquet|part-00080-44bd3411-fbe4-4e16-b667-7ec0fc3ad489.c000.snappy.parquet|6097291  |\n",
      "|file:/Users/ugurkalkavan/Downloads/m06sparkbasics/weather/year=2019/month=11/day=28/part-00080-44bd3411-fbe4-4e16-b667-7ec0fc3ad489.c000.snappy.parquet|part-00080-44bd3411-fbe4-4e16-b667-7ec0fc3ad489.c000.snappy.parquet|6097291  |\n",
      "|file:/Users/ugurkalkavan/Downloads/m06sparkbasics/weather/year=2023/month=01/day=28/part-00080-44bd3411-fbe4-4e16-b667-7ec0fc3ad489.c000.snappy.parquet|part-00080-44bd3411-fbe4-4e16-b667-7ec0fc3ad489.c000.snappy.parquet|6097291  |\n",
      "|file:/Users/ugurkalkavan/Downloads/m06sparkbasics/weather/year=2022/month=08/day=27/part-00012-44bd3411-fbe4-4e16-b667-7ec0fc3ad489.c000.snappy.parquet|part-00012-44bd3411-fbe4-4e16-b667-7ec0fc3ad489.c000.snappy.parquet|6097808  |\n",
      "|file:/Users/ugurkalkavan/Downloads/m06sparkbasics/weather/year=2019/month=05/day=27/part-00012-44bd3411-fbe4-4e16-b667-7ec0fc3ad489.c000.snappy.parquet|part-00012-44bd3411-fbe4-4e16-b667-7ec0fc3ad489.c000.snappy.parquet|6097808  |\n",
      "|file:/Users/ugurkalkavan/Downloads/m06sparkbasics/weather/year=2016/month=12/day=27/part-00012-44bd3411-fbe4-4e16-b667-7ec0fc3ad489.c000.snappy.parquet|part-00012-44bd3411-fbe4-4e16-b667-7ec0fc3ad489.c000.snappy.parquet|6097808  |\n",
      "|file:/Users/ugurkalkavan/Downloads/m06sparkbasics/weather/year=2018/month=05/day=27/part-00012-44bd3411-fbe4-4e16-b667-7ec0fc3ad489.c000.snappy.parquet|part-00012-44bd3411-fbe4-4e16-b667-7ec0fc3ad489.c000.snappy.parquet|6097808  |\n",
      "|file:/Users/ugurkalkavan/Downloads/m06sparkbasics/weather/year=2018/month=12/day=28/part-00080-44bd3411-fbe4-4e16-b667-7ec0fc3ad489.c000.snappy.parquet|part-00080-44bd3411-fbe4-4e16-b667-7ec0fc3ad489.c000.snappy.parquet|6097291  |\n",
      "|file:/Users/ugurkalkavan/Downloads/m06sparkbasics/weather/year=2022/month=05/day=28/part-00080-44bd3411-fbe4-4e16-b667-7ec0fc3ad489.c000.snappy.parquet|part-00080-44bd3411-fbe4-4e16-b667-7ec0fc3ad489.c000.snappy.parquet|6097291  |\n",
      "|file:/Users/ugurkalkavan/Downloads/m06sparkbasics/weather/year=2021/month=12/day=28/part-00080-44bd3411-fbe4-4e16-b667-7ec0fc3ad489.c000.snappy.parquet|part-00080-44bd3411-fbe4-4e16-b667-7ec0fc3ad489.c000.snappy.parquet|6097291  |\n",
      "|file:/Users/ugurkalkavan/Downloads/m06sparkbasics/weather/year=2018/month=01/day=28/part-00080-44bd3411-fbe4-4e16-b667-7ec0fc3ad489.c000.snappy.parquet|part-00080-44bd3411-fbe4-4e16-b667-7ec0fc3ad489.c000.snappy.parquet|6097291  |\n",
      "|file:/Users/ugurkalkavan/Downloads/m06sparkbasics/weather/year=2023/month=11/day=28/part-00080-44bd3411-fbe4-4e16-b667-7ec0fc3ad489.c000.snappy.parquet|part-00080-44bd3411-fbe4-4e16-b667-7ec0fc3ad489.c000.snappy.parquet|6097291  |\n",
      "|file:/Users/ugurkalkavan/Downloads/m06sparkbasics/weather/year=2017/month=12/day=28/part-00080-44bd3411-fbe4-4e16-b667-7ec0fc3ad489.c000.snappy.parquet|part-00080-44bd3411-fbe4-4e16-b667-7ec0fc3ad489.c000.snappy.parquet|6097291  |\n",
      "|file:/Users/ugurkalkavan/Downloads/m06sparkbasics/weather/year=2022/month=04/day=28/part-00080-44bd3411-fbe4-4e16-b667-7ec0fc3ad489.c000.snappy.parquet|part-00080-44bd3411-fbe4-4e16-b667-7ec0fc3ad489.c000.snappy.parquet|6097291  |\n",
      "|file:/Users/ugurkalkavan/Downloads/m06sparkbasics/weather/year=2016/month=11/day=28/part-00080-44bd3411-fbe4-4e16-b667-7ec0fc3ad489.c000.snappy.parquet|part-00080-44bd3411-fbe4-4e16-b667-7ec0fc3ad489.c000.snappy.parquet|6097291  |\n",
      "|file:/Users/ugurkalkavan/Downloads/m06sparkbasics/weather/year=2018/month=04/day=28/part-00080-44bd3411-fbe4-4e16-b667-7ec0fc3ad489.c000.snappy.parquet|part-00080-44bd3411-fbe4-4e16-b667-7ec0fc3ad489.c000.snappy.parquet|6097291  |\n",
      "|file:/Users/ugurkalkavan/Downloads/m06sparkbasics/weather/year=2023/month=05/day=28/part-00080-44bd3411-fbe4-4e16-b667-7ec0fc3ad489.c000.snappy.parquet|part-00080-44bd3411-fbe4-4e16-b667-7ec0fc3ad489.c000.snappy.parquet|6097291  |\n",
      "|file:/Users/ugurkalkavan/Downloads/m06sparkbasics/weather/year=2020/month=05/day=28/part-00080-44bd3411-fbe4-4e16-b667-7ec0fc3ad489.c000.snappy.parquet|part-00080-44bd3411-fbe4-4e16-b667-7ec0fc3ad489.c000.snappy.parquet|6097291  |\n",
      "|file:/Users/ugurkalkavan/Downloads/m06sparkbasics/weather/year=2018/month=11/day=28/part-00080-44bd3411-fbe4-4e16-b667-7ec0fc3ad489.c000.snappy.parquet|part-00080-44bd3411-fbe4-4e16-b667-7ec0fc3ad489.c000.snappy.parquet|6097291  |\n",
      "|file:/Users/ugurkalkavan/Downloads/m06sparkbasics/weather/year=2016/month=04/day=28/part-00080-44bd3411-fbe4-4e16-b667-7ec0fc3ad489.c000.snappy.parquet|part-00080-44bd3411-fbe4-4e16-b667-7ec0fc3ad489.c000.snappy.parquet|6097291  |\n",
      "|file:/Users/ugurkalkavan/Downloads/m06sparkbasics/weather/year=2017/month=08/day=28/part-00080-44bd3411-fbe4-4e16-b667-7ec0fc3ad489.c000.snappy.parquet|part-00080-44bd3411-fbe4-4e16-b667-7ec0fc3ad489.c000.snappy.parquet|6097291  |\n",
      "|file:/Users/ugurkalkavan/Downloads/m06sparkbasics/weather/year=2021/month=05/day=28/part-00080-44bd3411-fbe4-4e16-b667-7ec0fc3ad489.c000.snappy.parquet|part-00080-44bd3411-fbe4-4e16-b667-7ec0fc3ad489.c000.snappy.parquet|6097291  |\n",
      "|file:/Users/ugurkalkavan/Downloads/m06sparkbasics/weather/year=2021/month=04/day=28/part-00080-44bd3411-fbe4-4e16-b667-7ec0fc3ad489.c000.snappy.parquet|part-00080-44bd3411-fbe4-4e16-b667-7ec0fc3ad489.c000.snappy.parquet|6097291  |\n",
      "|file:/Users/ugurkalkavan/Downloads/m06sparkbasics/weather/year=2018/month=08/day=28/part-00080-44bd3411-fbe4-4e16-b667-7ec0fc3ad489.c000.snappy.parquet|part-00080-44bd3411-fbe4-4e16-b667-7ec0fc3ad489.c000.snappy.parquet|6097291  |\n",
      "|file:/Users/ugurkalkavan/Downloads/m06sparkbasics/weather/year=2017/month=01/day=28/part-00080-44bd3411-fbe4-4e16-b667-7ec0fc3ad489.c000.snappy.parquet|part-00080-44bd3411-fbe4-4e16-b667-7ec0fc3ad489.c000.snappy.parquet|6097291  |\n",
      "|file:/Users/ugurkalkavan/Downloads/m06sparkbasics/weather/year=2023/month=12/day=28/part-00080-44bd3411-fbe4-4e16-b667-7ec0fc3ad489.c000.snappy.parquet|part-00080-44bd3411-fbe4-4e16-b667-7ec0fc3ad489.c000.snappy.parquet|6097291  |\n",
      "|file:/Users/ugurkalkavan/Downloads/m06sparkbasics/weather/year=2023/month=08/day=28/part-00080-44bd3411-fbe4-4e16-b667-7ec0fc3ad489.c000.snappy.parquet|part-00080-44bd3411-fbe4-4e16-b667-7ec0fc3ad489.c000.snappy.parquet|6097291  |\n",
      "|file:/Users/ugurkalkavan/Downloads/m06sparkbasics/weather/year=2021/month=05/day=31/part-00158-44bd3411-fbe4-4e16-b667-7ec0fc3ad489.c000.snappy.parquet|part-00158-44bd3411-fbe4-4e16-b667-7ec0fc3ad489.c000.snappy.parquet|6084048  |\n",
      "|file:/Users/ugurkalkavan/Downloads/m06sparkbasics/weather/year=2023/month=08/day=31/part-00158-44bd3411-fbe4-4e16-b667-7ec0fc3ad489.c000.snappy.parquet|part-00158-44bd3411-fbe4-4e16-b667-7ec0fc3ad489.c000.snappy.parquet|6084048  |\n",
      "|file:/Users/ugurkalkavan/Downloads/m06sparkbasics/weather/year=2020/month=01/day=31/part-00158-44bd3411-fbe4-4e16-b667-7ec0fc3ad489.c000.snappy.parquet|part-00158-44bd3411-fbe4-4e16-b667-7ec0fc3ad489.c000.snappy.parquet|6084048  |\n",
      "|file:/Users/ugurkalkavan/Downloads/m06sparkbasics/weather/year=2023/month=11/day=31/part-00158-44bd3411-fbe4-4e16-b667-7ec0fc3ad489.c000.snappy.parquet|part-00158-44bd3411-fbe4-4e16-b667-7ec0fc3ad489.c000.snappy.parquet|6084048  |\n",
      "|file:/Users/ugurkalkavan/Downloads/m06sparkbasics/weather/year=2016/month=12/day=31/part-00158-44bd3411-fbe4-4e16-b667-7ec0fc3ad489.c000.snappy.parquet|part-00158-44bd3411-fbe4-4e16-b667-7ec0fc3ad489.c000.snappy.parquet|6084048  |\n",
      "|file:/Users/ugurkalkavan/Downloads/m06sparkbasics/weather/year=2021/month=04/day=31/part-00158-44bd3411-fbe4-4e16-b667-7ec0fc3ad489.c000.snappy.parquet|part-00158-44bd3411-fbe4-4e16-b667-7ec0fc3ad489.c000.snappy.parquet|6084048  |\n",
      "|file:/Users/ugurkalkavan/Downloads/m06sparkbasics/weather/year=2016/month=04/day=31/part-00158-44bd3411-fbe4-4e16-b667-7ec0fc3ad489.c000.snappy.parquet|part-00158-44bd3411-fbe4-4e16-b667-7ec0fc3ad489.c000.snappy.parquet|6084048  |\n",
      "|file:/Users/ugurkalkavan/Downloads/m06sparkbasics/weather/year=2022/month=05/day=31/part-00158-44bd3411-fbe4-4e16-b667-7ec0fc3ad489.c000.snappy.parquet|part-00158-44bd3411-fbe4-4e16-b667-7ec0fc3ad489.c000.snappy.parquet|6084048  |\n",
      "|file:/Users/ugurkalkavan/Downloads/m06sparkbasics/weather/year=2020/month=04/day=31/part-00158-44bd3411-fbe4-4e16-b667-7ec0fc3ad489.c000.snappy.parquet|part-00158-44bd3411-fbe4-4e16-b667-7ec0fc3ad489.c000.snappy.parquet|6084048  |\n",
      "|file:/Users/ugurkalkavan/Downloads/m06sparkbasics/weather/year=2017/month=08/day=31/part-00158-44bd3411-fbe4-4e16-b667-7ec0fc3ad489.c000.snappy.parquet|part-00158-44bd3411-fbe4-4e16-b667-7ec0fc3ad489.c000.snappy.parquet|6084048  |\n",
      "|file:/Users/ugurkalkavan/Downloads/m06sparkbasics/weather/year=2018/month=05/day=31/part-00158-44bd3411-fbe4-4e16-b667-7ec0fc3ad489.c000.snappy.parquet|part-00158-44bd3411-fbe4-4e16-b667-7ec0fc3ad489.c000.snappy.parquet|6084048  |\n",
      "|file:/Users/ugurkalkavan/Downloads/m06sparkbasics/weather/year=2020/month=12/day=31/part-00158-44bd3411-fbe4-4e16-b667-7ec0fc3ad489.c000.snappy.parquet|part-00158-44bd3411-fbe4-4e16-b667-7ec0fc3ad489.c000.snappy.parquet|6084048  |\n",
      "|file:/Users/ugurkalkavan/Downloads/m06sparkbasics/weather/year=2017/month=11/day=31/part-00158-44bd3411-fbe4-4e16-b667-7ec0fc3ad489.c000.snappy.parquet|part-00158-44bd3411-fbe4-4e16-b667-7ec0fc3ad489.c000.snappy.parquet|6084048  |\n",
      "|file:/Users/ugurkalkavan/Downloads/m06sparkbasics/weather/year=2018/month=04/day=31/part-00158-44bd3411-fbe4-4e16-b667-7ec0fc3ad489.c000.snappy.parquet|part-00158-44bd3411-fbe4-4e16-b667-7ec0fc3ad489.c000.snappy.parquet|6084048  |\n",
      "|file:/Users/ugurkalkavan/Downloads/m06sparkbasics/weather/year=2021/month=12/day=31/part-00158-44bd3411-fbe4-4e16-b667-7ec0fc3ad489.c000.snappy.parquet|part-00158-44bd3411-fbe4-4e16-b667-7ec0fc3ad489.c000.snappy.parquet|6084048  |\n",
      "|file:/Users/ugurkalkavan/Downloads/m06sparkbasics/weather/year=2022/month=12/day=31/part-00158-44bd3411-fbe4-4e16-b667-7ec0fc3ad489.c000.snappy.parquet|part-00158-44bd3411-fbe4-4e16-b667-7ec0fc3ad489.c000.snappy.parquet|6084048  |\n",
      "|file:/Users/ugurkalkavan/Downloads/m06sparkbasics/weather/year=2018/month=01/day=31/part-00158-44bd3411-fbe4-4e16-b667-7ec0fc3ad489.c000.snappy.parquet|part-00158-44bd3411-fbe4-4e16-b667-7ec0fc3ad489.c000.snappy.parquet|6084048  |\n",
      "|file:/Users/ugurkalkavan/Downloads/m06sparkbasics/weather/year=2023/month=11/day=30/part-00028-44bd3411-fbe4-4e16-b667-7ec0fc3ad489.c000.snappy.parquet|part-00028-44bd3411-fbe4-4e16-b667-7ec0fc3ad489.c000.snappy.parquet|6081910  |\n",
      "|file:/Users/ugurkalkavan/Downloads/m06sparkbasics/weather/year=2022/month=11/day=30/part-00028-44bd3411-fbe4-4e16-b667-7ec0fc3ad489.c000.snappy.parquet|part-00028-44bd3411-fbe4-4e16-b667-7ec0fc3ad489.c000.snappy.parquet|6081910  |\n",
      "|file:/Users/ugurkalkavan/Downloads/m06sparkbasics/weather/year=2018/month=11/day=30/part-00028-44bd3411-fbe4-4e16-b667-7ec0fc3ad489.c000.snappy.parquet|part-00028-44bd3411-fbe4-4e16-b667-7ec0fc3ad489.c000.snappy.parquet|6081910  |\n",
      "+-------------------------------------------------------------------------------------------------------------------------------------------------------+-------------------------------------------------------------------+---------+\n",
      "only showing top 100 rows\n",
      "\n"
     ]
    },
    {
     "name": "stderr",
     "output_type": "stream",
     "text": [
      "                                                                                \r"
     ]
    }
   ],
   "source": [
    "weather_df.show(100,truncate=False)"
   ]
  },
  {
   "cell_type": "code",
   "execution_count": null,
   "id": "3a92a09e-9a86-497b-a915-77a321565137",
   "metadata": {},
   "outputs": [],
   "source": [
    "estimate_df_size(weather)"
   ]
  },
  {
   "cell_type": "code",
   "execution_count": 5,
   "id": "505e92f6-681b-4043-b6cc-245f0bb9061f",
   "metadata": {
    "execution": {
     "iopub.execute_input": "2024-06-13T13:40:45.582856Z",
     "iopub.status.busy": "2024-06-13T13:40:45.582781Z",
     "iopub.status.idle": "2024-06-13T13:40:45.587378Z",
     "shell.execute_reply": "2024-06-13T13:40:45.586954Z",
     "shell.execute_reply.started": "2024-06-13T13:40:45.582848Z"
    }
   },
   "outputs": [],
   "source": [
    "import contextlib\n",
    "import io\n",
    "import re\n",
    "\n",
    "from pyspark.sql import DataFrame\n",
    "\n",
    "def _bytes2mb(bb: float) -> float:\n",
    "  return bb / 1024 / 1024\n",
    "\n",
    "\n",
    "def estimate_size_of_df(df: DataFrame, size_in_mb: bool = False) -> float:\n",
    "  \"\"\"Estimate the size in Bytes of the given DataFrame.\n",
    "  If the size cannot be estimated return -1.0. It is possible if\n",
    "  we failed to parse plan or, most probably, it is the case when statistics\n",
    "  is unavailable. There is a problem that currently in the case of missing\n",
    "  statistics spark return 8 (or 12) EiB. If your data size is really measured in EiB\n",
    "  this function cannot help you. See https://github.com/apache/spark/pull/31817\n",
    "  for details. Size is returned in Bytes!\n",
    "\n",
    "  This function works only in PySpark 3.0.0 or higher!\n",
    "\n",
    "  :param df: DataFrame\n",
    "  :param size_in_mb: Convert output to Mb instead of B\n",
    "  :returns: size in bytes (or Mb if size_in_mb)\n",
    "  \"\"\"\n",
    "  with contextlib.redirect_stdout(io.StringIO()) as stdout:\n",
    "      # mode argument was added in 3.0.0\n",
    "      df.explain(mode=\"cost\")\n",
    "\n",
    "  # Get top line of Optimized Logical Plan\n",
    "  # The output of df.explain(mode=\"cost\") starts from the following line:\n",
    "  # == Optimized Logical Plan ==\n",
    "  # The next line after this should contain something like:\n",
    "  # Statistics(sizeInBytes=3.0 MiB) (untis may be different)\n",
    "  top_line = stdout.getvalue().split(\"\\n\")[1]\n",
    "\n",
    "  # We need a pattern to parse the real size and untis\n",
    "  pattern = r\"^.*sizeInBytes=([0-9]+\\.[0-9]+)\\s(B|KiB|MiB|GiB|TiB|EiB).*$\"\n",
    "\n",
    "  _match = re.search(pattern, top_line)\n",
    "\n",
    "  if _match:\n",
    "      size = float(_match.groups()[0])\n",
    "      units = _match.groups()[1]\n",
    "  else:\n",
    "      return -1\n",
    "\n",
    "  if units == \"KiB\":\n",
    "      size *= 1024\n",
    "\n",
    "  if units == \"MiB\":\n",
    "      size *= 1024 * 1024\n",
    "\n",
    "  if units == \"GiB\":\n",
    "      size *= 1024 * 1024 * 1024\n",
    "\n",
    "  if units == \"TiB\":\n",
    "      size *= 1024 * 1024 * 1024 * 1024\n",
    "\n",
    "  if units == \"EiB\":\n",
    "      # Most probably it is the case when Statistics is unavailable\n",
    "      # In this case spark just returns max possible value\n",
    "      # See https://github.com/apache/spark/pull/31817 for details\n",
    "      size = -1\n",
    "\n",
    "  if size < 0:\n",
    "      return size\n",
    "\n",
    "  if size_in_mb:\n",
    "      return _bytes2mb(size)  # size in Mb\n",
    "\n",
    "  return size  # size in bytes"
   ]
  },
  {
   "cell_type": "code",
   "execution_count": 11,
   "id": "043ae795-251d-440e-b2b4-6c5bf90e192c",
   "metadata": {
    "execution": {
     "iopub.execute_input": "2024-06-13T13:41:49.109370Z",
     "iopub.status.busy": "2024-06-13T13:41:49.108912Z",
     "iopub.status.idle": "2024-06-13T13:41:49.151215Z",
     "shell.execute_reply": "2024-06-13T13:41:49.150539Z",
     "shell.execute_reply.started": "2024-06-13T13:41:49.109344Z"
    }
   },
   "outputs": [
    {
     "data": {
      "text/plain": [
       "29742648524.8"
      ]
     },
     "execution_count": 11,
     "metadata": {},
     "output_type": "execute_result"
    }
   ],
   "source": [
    "estimate_size_of_df(weather,size_in_mb = False)"
   ]
  },
  {
   "cell_type": "code",
   "execution_count": null,
   "id": "46268988-9f8a-4018-8314-7e964da12f89",
   "metadata": {},
   "outputs": [],
   "source": [
    "dir(weather)"
   ]
  },
  {
   "cell_type": "code",
   "execution_count": 1,
   "id": "9edfe9d5-99b7-4df8-ba5c-18c3f28d2727",
   "metadata": {
    "execution": {
     "iopub.execute_input": "2024-06-13T13:06:16.621189Z",
     "iopub.status.busy": "2024-06-13T13:06:16.621116Z",
     "iopub.status.idle": "2024-06-13T13:06:16.626771Z",
     "shell.execute_reply": "2024-06-13T13:06:16.626536Z",
     "shell.execute_reply.started": "2024-06-13T13:06:16.621181Z"
    }
   },
   "outputs": [],
   "source": [
    "def get_partitions_table(spark, table):\n",
    "    from pyspark.sql.functions import regexp_replace,explode,expr\n",
    "    \n",
    "    # Get partition columns\n",
    "    db, tbl = table.split(\".\")\n",
    "    partitions = []\n",
    "    Columns = spark.catalog.listColumns(tbl,db)\n",
    "    partitionsColumns = list(filter(lambda spark: spark.isPartition, Columns))\n",
    "    for pc in partitionsColumns:\n",
    "        partitions.append(pc.name)\n",
    "\n",
    "    if partitions:\n",
    "        partitions_df = spark.sql(f\"SHOW PARTITIONS {table}\")\n",
    "        from pyspark.sql.functions import split, concat\n",
    "        partitions_df = partitions_df.withColumn(\"partition\", split(partitions_df[\"partition\"], \"/\"))\n",
    "\n",
    "\n",
    "        select_exprs = [f\"partition[{i}] as {partitions[i]}\" for i in range(len(partitions))]\n",
    "        partitions_df = partitions_df.selectExpr(*select_exprs)\n",
    "\n",
    "        for p in partitions:\n",
    "            partitions_df = partitions_df.withColumn(p, regexp_replace(partitions_df[p], f\"{p}=\", \"\"))\n",
    "            \n",
    "        return partitions_df\n",
    "    else:\n",
    "        print(\"THERE IS NO PARTITION IN THIS TABLE\")\n",
    "        \n",
    "        return None"
   ]
  },
  {
   "cell_type": "code",
   "execution_count": 73,
   "id": "02592212-d57e-4f69-9cc3-8bb9127da314",
   "metadata": {
    "execution": {
     "iopub.execute_input": "2024-06-13T14:02:37.988548Z",
     "iopub.status.busy": "2024-06-13T14:02:37.988093Z",
     "iopub.status.idle": "2024-06-13T14:02:40.194834Z",
     "shell.execute_reply": "2024-06-13T14:02:40.194468Z",
     "shell.execute_reply.started": "2024-06-13T14:02:37.988522Z"
    }
   },
   "outputs": [
    {
     "name": "stdout",
     "output_type": "stream",
     "text": [
      "+----+-----+---+\n",
      "|year|month|day|\n",
      "+----+-----+---+\n",
      "|2023|   12| 11|\n",
      "|2018|   07| 21|\n",
      "|2017|   12| 11|\n",
      "|2020|   02| 19|\n",
      "|2016|   06| 04|\n",
      "|2023|   04| 10|\n",
      "|2022|   04| 30|\n",
      "|2017|   03| 26|\n",
      "|2016|   01| 03|\n",
      "|2023|   07| 24|\n",
      "|2019|   09| 20|\n",
      "|2022|   11| 03|\n",
      "|2023|   10| 15|\n",
      "|2023|   07| 20|\n",
      "|2020|   10| 22|\n",
      "|2022|   04| 17|\n",
      "|2022|   08| 04|\n",
      "|2016|   08| 31|\n",
      "|2023|   02| 09|\n",
      "|2023|   08| 30|\n",
      "+----+-----+---+\n",
      "only showing top 20 rows\n",
      "\n"
     ]
    },
    {
     "name": "stderr",
     "output_type": "stream",
     "text": [
      "[Stage 4:>                                                        (0 + 10) / 10]\r"
     ]
    },
    {
     "name": "stdout",
     "output_type": "stream",
     "text": [
      "+----+-----+---+\n",
      "|year|month|day|\n",
      "+----+-----+---+\n",
      "|2016|   01| 01|\n",
      "|2016|   01| 01|\n",
      "|2016|   01| 01|\n",
      "|2016|   01| 02|\n",
      "|2016|   01| 02|\n",
      "|2016|   01| 02|\n",
      "|2016|   01| 03|\n",
      "|2016|   01| 03|\n",
      "|2016|   01| 03|\n",
      "|2016|   01| 04|\n",
      "|2016|   01| 04|\n",
      "|2016|   01| 04|\n",
      "|2016|   01| 05|\n",
      "|2016|   01| 05|\n",
      "|2016|   01| 05|\n",
      "|2016|   01| 06|\n",
      "|2016|   01| 06|\n",
      "|2016|   01| 06|\n",
      "|2016|   01| 07|\n",
      "|2016|   01| 07|\n",
      "+----+-----+---+\n",
      "only showing top 20 rows\n",
      "\n"
     ]
    },
    {
     "name": "stderr",
     "output_type": "stream",
     "text": [
      "                                                                                \r"
     ]
    }
   ],
   "source": [
    "from pyspark.sql import Row\n",
    "\n",
    "# Get list of input files\n",
    "file_list = weather.inputFiles()\n",
    "\n",
    "# Prepare a list to hold Row objects\n",
    "rows = []\n",
    "\n",
    "# Parse file paths to get partition info\n",
    "for file_path in file_list:\n",
    "    # Extract partition info from file path\n",
    "    path_parts = file_path.split(\"/\")\n",
    "    partition_info = dict([part.split(\"=\") for part in path_parts if \"=\" in part])\n",
    "    # Create a Row from the partition info and append to list\n",
    "    rows.append(Row(**partition_info))\n",
    "\n",
    "# Create DataFrame from the list of Row objects\n",
    "df_partitions = spark.createDataFrame(rows)\n",
    "\n",
    "# Now, sort the DataFrame\n",
    "sorted_df_partitions = df_partitions.sort(df_partitions.columns)\n",
    "\n",
    "# Show the DataFrame\n",
    "df_partitions.show()\n",
    "\n",
    "sorted_df_partitions.show()"
   ]
  },
  {
   "cell_type": "code",
   "execution_count": 111,
   "id": "a849c378-0d36-4517-8a62-2d5b51b2e8fd",
   "metadata": {
    "execution": {
     "iopub.execute_input": "2024-06-13T14:46:01.609844Z",
     "iopub.status.busy": "2024-06-13T14:46:01.609387Z",
     "iopub.status.idle": "2024-06-13T14:46:01.614933Z",
     "shell.execute_reply": "2024-06-13T14:46:01.614435Z",
     "shell.execute_reply.started": "2024-06-13T14:46:01.609808Z"
    }
   },
   "outputs": [],
   "source": [
    "\n",
    "def get_partition_file_sizes(c, hdfs_path):\n",
    "    hadoop = c._jvm.org.apache.hadoop\n",
    "    fs = hadoop.fs.FileSystem\n",
    "    conf = hadoop.conf.Configuration() \n",
    "    path = hadoop.fs.Path(hdfs_path)\n",
    "\n",
    "    # Initialize variables\n",
    "    total_files = 0\n",
    "    total_size = 0\n",
    "\n",
    "    # Iterate through files in the HDFS path\n",
    "    for f in fs.get(conf).listStatus(path):\n",
    "        file_name = f.getPath().getName()\n",
    "        if file_name != \"_SUCCESS\":\n",
    "            total_files += 1  # Increment file count\n",
    "            total_size += f.getLen()  # Add file size\n",
    "\n",
    "    # Calculate average file size\n",
    "    if total_files > 0:\n",
    "        average_size = total_size / total_files\n",
    "    else:\n",
    "        average_size = 0\n",
    "\n",
    "    return total_files, total_size, average_size"
   ]
  },
  {
   "cell_type": "code",
   "execution_count": 151,
   "id": "c6f18045-0bda-4c8e-a2f5-e6fe7729ecdf",
   "metadata": {
    "execution": {
     "iopub.execute_input": "2024-06-13T14:47:01.821149Z",
     "iopub.status.busy": "2024-06-13T14:47:01.820857Z",
     "iopub.status.idle": "2024-06-13T14:47:01.826931Z",
     "shell.execute_reply": "2024-06-13T14:47:01.826418Z",
     "shell.execute_reply.started": "2024-06-13T14:47:01.821130Z"
    }
   },
   "outputs": [],
   "source": [
    "\n",
    "def get_partition_file_sizes(spark: SparkSession, hdfs_path: str) -> tuple[int, int, int]:\n",
    "    \"\"\"\n",
    "    Returns the total number of files, total file size,\n",
    "    and average file sizes of partition files in a HDFS path.\n",
    "    \n",
    "    Parameters:\n",
    "    spark: SparkSession object.\n",
    "    hdfs_path: String that represents HDFS path.\n",
    "      \n",
    "    Returns:\n",
    "    Tuple that contains total files, total size and average size.\n",
    "    \"\"\"    \n",
    "    # Import the necessary Hadoop classes \n",
    "    hadoop = spark._jvm.org.apache.hadoop\n",
    "    conf = hadoop.conf.Configuration() \n",
    "    path = hadoop.fs.Path(hdfs_path)\n",
    "\n",
    "    # Initialize filesystem object\n",
    "    fs = hadoop.fs.FileSystem.get(conf)\n",
    "    \n",
    "    # Initialize accumulator variables\n",
    "    total_files = spark.sparkContext.accumulator(0)\n",
    "    total_size = spark.sparkContext.accumulator(0)\n",
    "\n",
    "    # Define recursive function to traverse file tree structure\n",
    "    def file_tree_size(dir_path):\n",
    "        for f in fs.listStatus(dir_path):\n",
    "            if f.isFile():  # If file, accumulate size\n",
    "                total_files.add(1)\n",
    "                total_size.add(f.getLen())\n",
    "            else:  # If directory, recurse\n",
    "                file_tree_size(f.getPath())\n",
    "                \n",
    "    # Call recursive function starting at root\n",
    "    file_tree_size(path)\n",
    "\n",
    "    # Calculate average file size\n",
    "    average_size = total_size.value / total_files.value if total_files.value > 0 else 0\n",
    "\n",
    "    return total_files.value, total_size.value, average_size"
   ]
  },
  {
   "cell_type": "code",
   "execution_count": 169,
   "id": "28c7dbcb-ab04-40f0-a123-1dd1d50defcd",
   "metadata": {
    "execution": {
     "iopub.execute_input": "2024-06-13T14:48:43.298178Z",
     "iopub.status.busy": "2024-06-13T14:48:43.296736Z",
     "iopub.status.idle": "2024-06-13T14:48:43.333628Z",
     "shell.execute_reply": "2024-06-13T14:48:43.333181Z",
     "shell.execute_reply.started": "2024-06-13T14:48:43.298121Z"
    }
   },
   "outputs": [
    {
     "data": {
      "text/plain": [
       "(1, 1761355, 1761355.0)"
      ]
     },
     "execution_count": 169,
     "metadata": {},
     "output_type": "execute_result"
    }
   ],
   "source": [
    "get_partition_file_sizes(spark,\n",
    "                         \"file:///Users/ugurkalkavan/Downloads/m06sparkbasics/weather/year=2018/month=07/day=21/part-00152-44bd3411-fbe4-4e16-b667-7ec0fc3ad489.c000.snappy.parquet\")\n",
    "\n",
    "                         "
   ]
  },
  {
   "cell_type": "code",
   "execution_count": null,
   "id": "79eb6452-1a83-4da3-ad27-a3432c077574",
   "metadata": {},
   "outputs": [],
   "source": []
  },
  {
   "cell_type": "code",
   "execution_count": null,
   "id": "0d22324d-e2bf-4d4d-9835-04b0f680d7d2",
   "metadata": {},
   "outputs": [],
   "source": []
  },
  {
   "cell_type": "code",
   "execution_count": null,
   "id": "38a352c5-baf4-48a1-8501-e4adbb36f624",
   "metadata": {},
   "outputs": [],
   "source": []
  },
  {
   "cell_type": "code",
   "execution_count": 171,
   "id": "122c0c84-b665-4315-933a-1154fed04ddc",
   "metadata": {
    "execution": {
     "iopub.execute_input": "2024-06-13T14:48:47.379216Z",
     "iopub.status.busy": "2024-06-13T14:48:47.378762Z",
     "iopub.status.idle": "2024-06-13T14:48:47.417606Z",
     "shell.execute_reply": "2024-06-13T14:48:47.417128Z",
     "shell.execute_reply.started": "2024-06-13T14:48:47.379190Z"
    }
   },
   "outputs": [
    {
     "data": {
      "text/plain": [
       "(3, 10200545, 3400181.6666666665)"
      ]
     },
     "execution_count": 171,
     "metadata": {},
     "output_type": "execute_result"
    }
   ],
   "source": [
    "get_partition_file_sizes(spark,\n",
    "\"file:///Users/ugurkalkavan/Downloads/m06sparkbasics/weather/year=2018/month=07/day=21/\")\n",
    "\n"
   ]
  },
  {
   "cell_type": "code",
   "execution_count": 160,
   "id": "338146a9-0f2a-4412-8056-3e3e8997a736",
   "metadata": {
    "execution": {
     "iopub.execute_input": "2024-06-13T14:47:03.529528Z",
     "iopub.status.busy": "2024-06-13T14:47:03.529087Z",
     "iopub.status.idle": "2024-06-13T14:47:03.614347Z",
     "shell.execute_reply": "2024-06-13T14:47:03.614032Z",
     "shell.execute_reply.started": "2024-06-13T14:47:03.529510Z"
    }
   },
   "outputs": [
    {
     "data": {
      "text/plain": [
       "(91, 304450070, 3345605.164835165)"
      ]
     },
     "execution_count": 160,
     "metadata": {},
     "output_type": "execute_result"
    }
   ],
   "source": [
    "get_partition_file_sizes(spark,\n",
    "\"file:///Users/ugurkalkavan/Downloads/m06sparkbasics/weather/year=2018/month=07/\")\n",
    "\n"
   ]
  },
  {
   "cell_type": "code",
   "execution_count": 162,
   "id": "21d6a861-bac5-4d04-aeab-642537a13125",
   "metadata": {
    "execution": {
     "iopub.execute_input": "2024-06-13T14:47:03.920322Z",
     "iopub.status.busy": "2024-06-13T14:47:03.919912Z",
     "iopub.status.idle": "2024-06-13T14:47:03.945859Z",
     "shell.execute_reply": "2024-06-13T14:47:03.945413Z",
     "shell.execute_reply.started": "2024-06-13T14:47:03.920303Z"
    }
   },
   "outputs": [
    {
     "data": {
      "text/plain": [
       "(1, 1761355, 1761355.0)"
      ]
     },
     "execution_count": 162,
     "metadata": {},
     "output_type": "execute_result"
    }
   ],
   "source": [
    "get_partition_file_sizes(spark,\n",
    "                         \"file:///Users/ugurkalkavan/Downloads/m06sparkbasics/weather/year=2018/month=07/day=21/part-00152-44bd3411-fbe4-4e16-b667-7ec0fc3ad489.c000.snappy.parquet\")\n",
    "\n",
    "                         "
   ]
  },
  {
   "cell_type": "code",
   "execution_count": 164,
   "id": "c23676aa-4f0b-47f5-ab04-b4f22c8341b0",
   "metadata": {
    "execution": {
     "iopub.execute_input": "2024-06-13T14:47:04.244307Z",
     "iopub.status.busy": "2024-06-13T14:47:04.243776Z",
     "iopub.status.idle": "2024-06-13T14:47:04.278269Z",
     "shell.execute_reply": "2024-06-13T14:47:04.277698Z",
     "shell.execute_reply.started": "2024-06-13T14:47:04.244278Z"
    }
   },
   "outputs": [
    {
     "data": {
      "text/plain": [
       "(3, 10200545, 3400181.6666666665)"
      ]
     },
     "execution_count": 164,
     "metadata": {},
     "output_type": "execute_result"
    }
   ],
   "source": [
    "get_partition_file_sizes(spark,\n",
    "\"file:///Users/ugurkalkavan/Downloads/m06sparkbasics/weather/year=2018/month=07/day=21/\")\n",
    "\n"
   ]
  },
  {
   "cell_type": "code",
   "execution_count": 166,
   "id": "a2f2bb34-a878-4c59-a1a8-4d3b681a6529",
   "metadata": {
    "execution": {
     "iopub.execute_input": "2024-06-13T14:47:04.595151Z",
     "iopub.status.busy": "2024-06-13T14:47:04.594690Z",
     "iopub.status.idle": "2024-06-13T14:47:04.680735Z",
     "shell.execute_reply": "2024-06-13T14:47:04.680452Z",
     "shell.execute_reply.started": "2024-06-13T14:47:04.595124Z"
    }
   },
   "outputs": [
    {
     "data": {
      "text/plain": [
       "(91, 304450070, 3345605.164835165)"
      ]
     },
     "execution_count": 166,
     "metadata": {},
     "output_type": "execute_result"
    }
   ],
   "source": [
    "get_partition_file_sizes(spark,\n",
    "\"file:///Users/ugurkalkavan/Downloads/m06sparkbasics/weather/year=2018/month=07/\")\n",
    "\n"
   ]
  },
  {
   "cell_type": "code",
   "execution_count": null,
   "id": "aad37da2-89c9-46be-aa84-e1cb29af751d",
   "metadata": {},
   "outputs": [],
   "source": []
  },
  {
   "cell_type": "code",
   "execution_count": null,
   "id": "253993c0-4648-4b1b-b957-8c0da4fd7677",
   "metadata": {},
   "outputs": [],
   "source": []
  }
 ],
 "metadata": {
  "kernelspec": {
   "display_name": "Python 3 (ipykernel)",
   "language": "python",
   "name": "python3"
  },
  "language_info": {
   "codemirror_mode": {
    "name": "ipython",
    "version": 3
   },
   "file_extension": ".py",
   "mimetype": "text/x-python",
   "name": "python",
   "nbconvert_exporter": "python",
   "pygments_lexer": "ipython3",
   "version": "3.11.7"
  }
 },
 "nbformat": 4,
 "nbformat_minor": 5
}
