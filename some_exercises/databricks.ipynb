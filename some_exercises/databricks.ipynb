{
 "cells": [
  {
   "cell_type": "code",
   "execution_count": 23,
   "id": "9d8dcef0-833c-4e8e-a61b-8a80b0ecce7b",
   "metadata": {
    "execution": {
     "iopub.execute_input": "2024-06-07T13:54:50.771091Z",
     "iopub.status.busy": "2024-06-07T13:54:50.770795Z",
     "iopub.status.idle": "2024-06-07T13:54:51.529185Z",
     "shell.execute_reply": "2024-06-07T13:54:51.528632Z",
     "shell.execute_reply.started": "2024-06-07T13:54:50.771073Z"
    },
    "tags": []
   },
   "outputs": [
    {
     "name": "stdout",
     "output_type": "stream",
     "text": [
      "+---+----+--------------------+\n",
      "| id|name|      subject_scores|\n",
      "+---+----+--------------------+\n",
      "|  1|John|{english -> 80, m...|\n",
      "|  2|Jane|{history -> 90, m...|\n",
      "|  3| Jim|{chemistry -> 88,...|\n",
      "+---+----+--------------------+\n",
      "\n"
     ]
    }
   ],
   "source": [
    "from pyspark.sql import SparkSession\n",
    "from pyspark.sql.types import StructType, StructField, IntegerType, StringType, MapType\n",
    "from pyspark.sql.functions import explode,col\n",
    "\n",
    "spark = SparkSession.builder.getOrCreate()\n",
    "\n",
    "schema = StructType([\n",
    "    StructField(\"id\", IntegerType(), True),\n",
    "    StructField(\"name\", StringType(), True),\n",
    "    StructField(\"subject_scores\", MapType(StringType(), IntegerType()), True)\n",
    "])\n",
    "\n",
    "data = [(1, \"John\", {\"math\": 95, \"english\": 80}),\n",
    "        (2, \"Jane\", {\"math\": 85, \"history\": 90}),\n",
    "        (3, \"Jim\", {\"biology\": 92, \"chemistry\": 88})]\n",
    "\n",
    "df = spark.createDataFrame(data, schema)\n",
    "\n",
    "df.show()"
   ]
  },
  {
   "cell_type": "code",
   "execution_count": 9,
   "id": "c4a3e66a-5d1c-454c-a520-8d1bb5492ade",
   "metadata": {
    "execution": {
     "iopub.execute_input": "2024-06-07T13:51:53.853856Z",
     "iopub.status.busy": "2024-06-07T13:51:53.853244Z",
     "iopub.status.idle": "2024-06-07T13:51:53.882500Z",
     "shell.execute_reply": "2024-06-07T13:51:53.881873Z",
     "shell.execute_reply.started": "2024-06-07T13:51:53.853815Z"
    },
    "tags": []
   },
   "outputs": [
    {
     "name": "stdout",
     "output_type": "stream",
     "text": [
      "root\n",
      " |-- id: long (nullable = true)\n",
      " |-- name: string (nullable = true)\n",
      " |-- subject_scores: map (nullable = true)\n",
      " |    |-- key: string\n",
      " |    |-- value: long (valueContainsNull = true)\n",
      "\n"
     ]
    }
   ],
   "source": [
    "df.printSchema()"
   ]
  },
  {
   "cell_type": "code",
   "execution_count": 29,
   "id": "1dceba60-7a3f-41f0-ae2c-47acde9a270e",
   "metadata": {
    "execution": {
     "iopub.execute_input": "2024-06-07T13:55:25.048136Z",
     "iopub.status.busy": "2024-06-07T13:55:25.047837Z",
     "iopub.status.idle": "2024-06-07T13:55:25.936944Z",
     "shell.execute_reply": "2024-06-07T13:55:25.936551Z",
     "shell.execute_reply.started": "2024-06-07T13:55:25.048118Z"
    },
    "tags": []
   },
   "outputs": [
    {
     "name": "stdout",
     "output_type": "stream",
     "text": [
      "+---------+-----+---+----+\n",
      "|      key|value| id|name|\n",
      "+---------+-----+---+----+\n",
      "|  english|   80|  1|John|\n",
      "|     math|   95|  1|John|\n",
      "|  history|   90|  2|Jane|\n",
      "|     math|   85|  2|Jane|\n",
      "|chemistry|   88|  3| Jim|\n",
      "|  biology|   92|  3| Jim|\n",
      "+---------+-----+---+----+\n",
      "\n"
     ]
    }
   ],
   "source": [
    "df.select(explode(df[\"subject_scores\"]), df[\"id\"], df[\"name\"]).show()"
   ]
  },
  {
   "cell_type": "code",
   "execution_count": null,
   "id": "058b9cea-e55c-4c29-ad2c-f41f60aaf17e",
   "metadata": {},
   "outputs": [],
   "source": []
  }
 ],
 "metadata": {
  "kernelspec": {
   "display_name": "Python 3 (ipykernel)",
   "language": "python",
   "name": "python3"
  },
  "language_info": {
   "codemirror_mode": {
    "name": "ipython",
    "version": 3
   },
   "file_extension": ".py",
   "mimetype": "text/x-python",
   "name": "python",
   "nbconvert_exporter": "python",
   "pygments_lexer": "ipython3",
   "version": "3.11.7"
  }
 },
 "nbformat": 4,
 "nbformat_minor": 5
}
