{
 "cells": [
  {
   "cell_type": "code",
   "execution_count": 3,
   "id": "300586e3-edad-4463-9889-134443c6e8e1",
   "metadata": {
    "execution": {
     "iopub.execute_input": "2024-05-28T21:59:17.724409Z",
     "iopub.status.busy": "2024-05-28T21:59:17.723684Z",
     "iopub.status.idle": "2024-05-28T21:59:20.231539Z",
     "shell.execute_reply": "2024-05-28T21:59:20.230989Z",
     "shell.execute_reply.started": "2024-05-28T21:59:17.724361Z"
    },
    "tags": []
   },
   "outputs": [
    {
     "name": "stdout",
     "output_type": "stream",
     "text": [
      "Collecting bitarray\n",
      "  Downloading bitarray-2.9.2-cp311-cp311-macosx_11_0_arm64.whl.metadata (34 kB)\n",
      "Downloading bitarray-2.9.2-cp311-cp311-macosx_11_0_arm64.whl (124 kB)\n",
      "\u001b[2K   \u001b[90m━━━━━━━━━━━━━━━━━━━━━━━━━━━━━━━━━━━━━━━━\u001b[0m \u001b[32m124.6/124.6 kB\u001b[0m \u001b[31m2.1 MB/s\u001b[0m eta \u001b[36m0:00:00\u001b[0m \u001b[36m0:00:01\u001b[0m\n",
      "\u001b[?25hInstalling collected packages: bitarray\n",
      "Successfully installed bitarray-2.9.2\n"
     ]
    }
   ],
   "source": [
    "!pip install bitarray"
   ]
  },
  {
   "cell_type": "code",
   "execution_count": 4,
   "id": "b820dad3-2929-4da8-bb25-30f71d9d4ad7",
   "metadata": {
    "execution": {
     "iopub.execute_input": "2024-05-28T21:59:20.238605Z",
     "iopub.status.busy": "2024-05-28T21:59:20.238460Z",
     "iopub.status.idle": "2024-05-28T21:59:20.527995Z",
     "shell.execute_reply": "2024-05-28T21:59:20.527384Z",
     "shell.execute_reply.started": "2024-05-28T21:59:20.238594Z"
    },
    "tags": []
   },
   "outputs": [],
   "source": [
    "import math\n",
    "import hashlib\n",
    "from bitarray import bitarray\n",
    "\n",
    "class BloomFilter:\n",
    "\n",
    "    def __init__(self, n_items, fp_prob):\n",
    "        '''\n",
    "        n_items : int\n",
    "            Number of items expected to be stored in bloom filter\n",
    "        fp_prob : float\n",
    "            False Positive probability in decimal\n",
    "        '''\n",
    "        # False possible probability in decimal\n",
    "        self.fp_prob = fp_prob\n",
    "\n",
    "        # Size of bit array to use\n",
    "        self.size = self.get_size(n_items,fp_prob)\n",
    "\n",
    "        # number of hash functions to use\n",
    "        self.hash_count = self.get_hash_count(self.size,n_items)\n",
    "\n",
    "        # Bit array of given size\n",
    "        self.bit_array = bitarray(self.size)\n",
    "\n",
    "        # initialize all bits as 0\n",
    "        self.bit_array.setall(0)\n",
    "\n",
    "    def add(self, item):\n",
    "        '''\n",
    "        Add an item in the filter\n",
    "        '''\n",
    "        for i in range(self.hash_count):\n",
    "            digest = hashlib.md5(str(item).encode('utf-8'))\n",
    "            # perform double hashing\n",
    "            result = int(digest.hexdigest(), 16)\n",
    "            bit = result % self.size\n",
    "            self.bit_array[bit] = True\n",
    "\n",
    "    def check(self, item):\n",
    "        '''\n",
    "        Check for existence of an item in filter\n",
    "        '''\n",
    "        for i in range(self.hash_count):\n",
    "            digest = hashlib.md5(str(item).encode('utf-8'))\n",
    "            result = int(digest.hexdigest(), 16)\n",
    "            bit = result % self.size\n",
    "            if self.bit_array[bit] == False:\n",
    "                return False\n",
    "        return True\n",
    "\n",
    "    @classmethod\n",
    "    def get_size(self,n,p):\n",
    "        '''\n",
    "        Return the size of bit array(m) to be used\n",
    "        '''\n",
    "        m = -(n * math.log(p))/(math.log(2)**2)\n",
    "        return int(m)\n",
    "\n",
    "    @classmethod\n",
    "    def get_hash_count(self, m, n):\n",
    "        '''\n",
    "        Return the hash function(k) to be used\n",
    "        '''\n",
    "        k = (m/n) * math.log(2)\n",
    "        return int(k)"
   ]
  },
  {
   "cell_type": "code",
   "execution_count": null,
   "id": "c9cde419-09dc-40be-b73b-401e0e697d82",
   "metadata": {},
   "outputs": [],
   "source": []
  },
  {
   "cell_type": "code",
   "execution_count": 32,
   "id": "22b4962b-52cb-4144-acd6-a1ad69b2d058",
   "metadata": {
    "execution": {
     "iopub.execute_input": "2024-05-28T22:01:01.902097Z",
     "iopub.status.busy": "2024-05-28T22:01:01.901389Z",
     "iopub.status.idle": "2024-05-28T22:01:01.913320Z",
     "shell.execute_reply": "2024-05-28T22:01:01.912492Z",
     "shell.execute_reply.started": "2024-05-28T22:01:01.902051Z"
    },
    "tags": []
   },
   "outputs": [
    {
     "name": "stdout",
     "output_type": "stream",
     "text": [
      "Size of bit array: 124\n",
      "False positive Probability: 0.05\n",
      "Number of hash functions: 4\n"
     ]
    }
   ],
   "source": [
    "from random import shuffle\n",
    "\n",
    "n = 20  # no of items to add\n",
    "p = 0.05  # false positive probability\n",
    "\n",
    "bloomf = BloomFilter(n,p)\n",
    "print(\"Size of bit array: {}\".format(bloomf.size))\n",
    "print(\"False positive Probability: {}\".format(bloomf.fp_prob))\n",
    "print(\"Number of hash functions: {}\".format(bloomf.hash_count))\n",
    "\n",
    "# words to be added\n",
    "word_present = ['abound','abounds','abundance','abundant','accessable',\n",
    "                'bloom','blossom','bolster','bonny','bonus','bonuses',\n",
    "                'coherent','cohesive','colorful','comely','comfort',\n",
    "                'gems','generosity','generous','generously','genial']\n",
    "\n",
    "# word not added\n",
    "word_absent = ['bluff','cheater','hate','war','humanity',\n",
    "               'racism','hurt','nuke','gloomy','facebook',\n",
    "               'geeksforgeeks','twitter']\n",
    "\n",
    "for item in word_present:\n",
    "    bloomf.add(item)\n",
    "\n",
    "shuffle(word_present)\n",
    "shuffle(word_absent)\n",
    "\n",
    "test_words = word_present[:10] + word_absent\n",
    "shuffle(test_words)"
   ]
  },
  {
   "cell_type": "code",
   "execution_count": 26,
   "id": "51be5664-3ff6-4be5-92dc-bcac590664b1",
   "metadata": {
    "execution": {
     "iopub.execute_input": "2024-05-28T22:00:02.807414Z",
     "iopub.status.busy": "2024-05-28T22:00:02.806732Z",
     "iopub.status.idle": "2024-05-28T22:00:02.811939Z",
     "shell.execute_reply": "2024-05-28T22:00:02.811475Z",
     "shell.execute_reply.started": "2024-05-28T22:00:02.807384Z"
    },
    "tags": []
   },
   "outputs": [
    {
     "name": "stdout",
     "output_type": "stream",
     "text": [
      "'coherent' is probably present!\n",
      "'twitter' is definitely NOT present!\n",
      "'cheater' is definitely NOT present!\n",
      "'bluff' is a false positive!\n",
      "'gloomy' is definitely NOT present!\n",
      "'bloom' is probably present!\n",
      "'blossom' is probably present!\n",
      "'facebook' is definitely NOT present!\n",
      "'generous' is probably present!\n",
      "'geeksforgeeks' is definitely NOT present!\n",
      "'abounds' is probably present!\n",
      "'nuke' is definitely NOT present!\n",
      "'war' is definitely NOT present!\n",
      "'accessable' is probably present!\n",
      "'abundance' is probably present!\n",
      "'hurt' is a false positive!\n",
      "'generously' is probably present!\n",
      "'racism' is definitely NOT present!\n",
      "'humanity' is definitely NOT present!\n",
      "'gems' is probably present!\n",
      "'abundant' is probably present!\n",
      "'hate' is definitely NOT present!\n"
     ]
    }
   ],
   "source": [
    "for word in test_words:\n",
    "    if bloomf.check(word):\n",
    "        if word in word_absent:\n",
    "            print(\"'{}' is a false positive!\".format(word))\n",
    "        else:\n",
    "            print(\"'{}' is probably present!\".format(word))\n",
    "    else:\n",
    "        print(\"'{}' is definitely NOT present!\".format(word))"
   ]
  },
  {
   "cell_type": "code",
   "execution_count": 36,
   "id": "2700de21-1b7e-4f08-b97b-06d905b04d30",
   "metadata": {
    "execution": {
     "iopub.execute_input": "2024-05-28T22:01:18.222211Z",
     "iopub.status.busy": "2024-05-28T22:01:18.221512Z",
     "iopub.status.idle": "2024-05-28T22:01:18.230066Z",
     "shell.execute_reply": "2024-05-28T22:01:18.229268Z",
     "shell.execute_reply.started": "2024-05-28T22:01:18.222161Z"
    },
    "tags": []
   },
   "outputs": [
    {
     "name": "stdout",
     "output_type": "stream",
     "text": [
      "'abounds' is probably present!\n",
      "'cheater' is definitely NOT present!\n",
      "'generously' is probably present!\n",
      "'humanity' is definitely NOT present!\n",
      "'generous' is probably present!\n",
      "'facebook' is definitely NOT present!\n",
      "'bluff' is a false positive!\n",
      "'hurt' is a false positive!\n",
      "'nuke' is definitely NOT present!\n",
      "'geeksforgeeks' is definitely NOT present!\n",
      "'gloomy' is definitely NOT present!\n",
      "'coherent' is probably present!\n",
      "'hate' is definitely NOT present!\n",
      "'bolster' is probably present!\n",
      "'twitter' is definitely NOT present!\n",
      "'racism' is definitely NOT present!\n",
      "'genial' is probably present!\n",
      "'war' is definitely NOT present!\n",
      "'abound' is probably present!\n",
      "'gems' is probably present!\n",
      "'accessable' is probably present!\n",
      "'comely' is probably present!\n"
     ]
    }
   ],
   "source": [
    "for word in test_words:\n",
    "    if bloomf.check(word):\n",
    "        if word in word_absent:\n",
    "            print(\"'{}' is a false positive!\".format(word))\n",
    "        else:\n",
    "            print(\"'{}' is probably present!\".format(word))\n",
    "    else:\n",
    "        print(\"'{}' is definitely NOT present!\".format(word))"
   ]
  },
  {
   "cell_type": "code",
   "execution_count": 30,
   "id": "b1633744-2a5b-4217-92fa-9e470c69d1d2",
   "metadata": {
    "execution": {
     "iopub.execute_input": "2024-05-28T22:00:59.595710Z",
     "iopub.status.busy": "2024-05-28T22:00:59.595008Z",
     "iopub.status.idle": "2024-05-28T22:00:59.603701Z",
     "shell.execute_reply": "2024-05-28T22:00:59.603107Z",
     "shell.execute_reply.started": "2024-05-28T22:00:59.595664Z"
    },
    "tags": []
   },
   "outputs": [
    {
     "data": {
      "text/plain": [
       "['coherent',\n",
       " 'twitter',\n",
       " 'cheater',\n",
       " 'bluff',\n",
       " 'gloomy',\n",
       " 'bloom',\n",
       " 'blossom',\n",
       " 'facebook',\n",
       " 'generous',\n",
       " 'geeksforgeeks',\n",
       " 'abounds',\n",
       " 'nuke',\n",
       " 'war',\n",
       " 'accessable',\n",
       " 'abundance',\n",
       " 'hurt',\n",
       " 'generously',\n",
       " 'racism',\n",
       " 'humanity',\n",
       " 'gems',\n",
       " 'abundant',\n",
       " 'hate']"
      ]
     },
     "execution_count": 30,
     "metadata": {},
     "output_type": "execute_result"
    }
   ],
   "source": [
    "test_words"
   ]
  },
  {
   "cell_type": "code",
   "execution_count": 34,
   "id": "84a09183-539a-4a38-ba50-6861422da23a",
   "metadata": {
    "execution": {
     "iopub.execute_input": "2024-05-28T22:01:08.570145Z",
     "iopub.status.busy": "2024-05-28T22:01:08.569463Z",
     "iopub.status.idle": "2024-05-28T22:01:08.578234Z",
     "shell.execute_reply": "2024-05-28T22:01:08.577360Z",
     "shell.execute_reply.started": "2024-05-28T22:01:08.570099Z"
    },
    "tags": []
   },
   "outputs": [
    {
     "data": {
      "text/plain": [
       "['abounds',\n",
       " 'cheater',\n",
       " 'generously',\n",
       " 'humanity',\n",
       " 'generous',\n",
       " 'facebook',\n",
       " 'bluff',\n",
       " 'hurt',\n",
       " 'nuke',\n",
       " 'geeksforgeeks',\n",
       " 'gloomy',\n",
       " 'coherent',\n",
       " 'hate',\n",
       " 'bolster',\n",
       " 'twitter',\n",
       " 'racism',\n",
       " 'genial',\n",
       " 'war',\n",
       " 'abound',\n",
       " 'gems',\n",
       " 'accessable',\n",
       " 'comely']"
      ]
     },
     "execution_count": 34,
     "metadata": {},
     "output_type": "execute_result"
    }
   ],
   "source": [
    "test_words"
   ]
  },
  {
   "cell_type": "code",
   "execution_count": null,
   "id": "3fea78c9-58a8-42f9-bd88-57d35b589dd4",
   "metadata": {},
   "outputs": [],
   "source": []
  }
 ],
 "metadata": {
  "kernelspec": {
   "display_name": "Python 3 (ipykernel)",
   "language": "python",
   "name": "python3"
  },
  "language_info": {
   "codemirror_mode": {
    "name": "ipython",
    "version": 3
   },
   "file_extension": ".py",
   "mimetype": "text/x-python",
   "name": "python",
   "nbconvert_exporter": "python",
   "pygments_lexer": "ipython3",
   "version": "3.11.7"
  }
 },
 "nbformat": 4,
 "nbformat_minor": 5
}
